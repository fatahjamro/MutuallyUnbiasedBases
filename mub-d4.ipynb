{
 "cells": [
  {
   "cell_type": "code",
   "execution_count": 1,
   "id": "de801add",
   "metadata": {},
   "outputs": [],
   "source": [
    "# Numerical arrays.\n",
    "import numpy as np\n",
    "\n",
    "# Symbollic arrays.\n",
    "import sympy as sp\n",
    "\n",
    "# Ket, etc.\n",
    "import sympy.physics.quantum as qu\n",
    "\n",
    "# Comibnatorics.\n",
    "import itertools"
   ]
  },
  {
   "cell_type": "code",
   "execution_count": 2,
   "id": "166e249d",
   "metadata": {},
   "outputs": [],
   "source": [
    "d = 4"
   ]
  },
  {
   "cell_type": "code",
   "execution_count": 3,
   "id": "a95c907b",
   "metadata": {},
   "outputs": [],
   "source": [
    "# Computational basis.\n",
    "computational = [sp.Array(np.eye(d, dtype=int)[:, i]) for i in range(d)]"
   ]
  },
  {
   "cell_type": "markdown",
   "id": "e7ba10ea",
   "metadata": {},
   "source": [
    "#### $B_0$ Basis"
   ]
  },
  {
   "cell_type": "code",
   "execution_count": 4,
   "id": "65d5fe34",
   "metadata": {},
   "outputs": [
    {
     "data": {
      "text/plain": [
       "[[1, 0, 0, 0], [0, 1, 0, 0], [0, 0, 1, 0], [0, 0, 0, 1]]"
      ]
     },
     "execution_count": 4,
     "metadata": {},
     "output_type": "execute_result"
    }
   ],
   "source": [
    "computational"
   ]
  },
  {
   "cell_type": "code",
   "execution_count": 5,
   "id": "bd8e5f02",
   "metadata": {},
   "outputs": [
    {
     "data": {
      "text/latex": [
       "$\\displaystyle i$"
      ],
      "text/plain": [
       "I"
      ]
     },
     "execution_count": 5,
     "metadata": {},
     "output_type": "execute_result"
    }
   ],
   "source": [
    "omega = sp.E**(2*sp.pi*sp.I/d)   # primitive 3rd root of unity\n",
    "omega"
   ]
  },
  {
   "cell_type": "code",
   "execution_count": 6,
   "id": "18b9c39f",
   "metadata": {},
   "outputs": [],
   "source": [
    "# All bases.\n",
    "bases = [\n",
    "  # Basis.\n",
    "  [\n",
    "    # Vector\n",
    "    sp.Array([\n",
    "      # Component.\n",
    "      1 / sp.sqrt(d) * omega**(r * l * l + k * l) for l in range(d)\n",
    "    ]) for k in range(d)\n",
    "  ] for r in range(1, d + 1)\n",
    "]\n"
   ]
  },
  {
   "cell_type": "code",
   "execution_count": 7,
   "id": "43692e9f",
   "metadata": {},
   "outputs": [
    {
     "name": "stdout",
     "output_type": "stream",
     "text": [
      "{\n"
     ]
    },
    {
     "data": {
      "text/latex": [
       "$\\displaystyle \\left[\\begin{matrix}\\frac{1}{2} & \\frac{i}{2} & \\frac{1}{2} & \\frac{i}{2}\\end{matrix}\\right]$"
      ],
      "text/plain": [
       "[1/2, I/2, 1/2, I/2]"
      ]
     },
     "metadata": {},
     "output_type": "display_data"
    },
    {
     "data": {
      "text/latex": [
       "$\\displaystyle \\left[\\begin{matrix}\\frac{1}{2} & - \\frac{1}{2} & - \\frac{1}{2} & \\frac{1}{2}\\end{matrix}\\right]$"
      ],
      "text/plain": [
       "[1/2, -1/2, -1/2, 1/2]"
      ]
     },
     "metadata": {},
     "output_type": "display_data"
    },
    {
     "data": {
      "text/latex": [
       "$\\displaystyle \\left[\\begin{matrix}\\frac{1}{2} & - \\frac{i}{2} & \\frac{1}{2} & - \\frac{i}{2}\\end{matrix}\\right]$"
      ],
      "text/plain": [
       "[1/2, -I/2, 1/2, -I/2]"
      ]
     },
     "metadata": {},
     "output_type": "display_data"
    },
    {
     "data": {
      "text/latex": [
       "$\\displaystyle \\left[\\begin{matrix}\\frac{1}{2} & \\frac{1}{2} & - \\frac{1}{2} & - \\frac{1}{2}\\end{matrix}\\right]$"
      ],
      "text/plain": [
       "[1/2, 1/2, -1/2, -1/2]"
      ]
     },
     "metadata": {},
     "output_type": "display_data"
    },
    {
     "name": "stdout",
     "output_type": "stream",
     "text": [
      "}\n",
      "{\n"
     ]
    },
    {
     "data": {
      "text/latex": [
       "$\\displaystyle \\left[\\begin{matrix}\\frac{1}{2} & - \\frac{1}{2} & \\frac{1}{2} & - \\frac{1}{2}\\end{matrix}\\right]$"
      ],
      "text/plain": [
       "[1/2, -1/2, 1/2, -1/2]"
      ]
     },
     "metadata": {},
     "output_type": "display_data"
    },
    {
     "data": {
      "text/latex": [
       "$\\displaystyle \\left[\\begin{matrix}\\frac{1}{2} & - \\frac{i}{2} & - \\frac{1}{2} & \\frac{i}{2}\\end{matrix}\\right]$"
      ],
      "text/plain": [
       "[1/2, -I/2, -1/2, I/2]"
      ]
     },
     "metadata": {},
     "output_type": "display_data"
    },
    {
     "data": {
      "text/latex": [
       "$\\displaystyle \\left[\\begin{matrix}\\frac{1}{2} & \\frac{1}{2} & \\frac{1}{2} & \\frac{1}{2}\\end{matrix}\\right]$"
      ],
      "text/plain": [
       "[1/2, 1/2, 1/2, 1/2]"
      ]
     },
     "metadata": {},
     "output_type": "display_data"
    },
    {
     "data": {
      "text/latex": [
       "$\\displaystyle \\left[\\begin{matrix}\\frac{1}{2} & \\frac{i}{2} & - \\frac{1}{2} & - \\frac{i}{2}\\end{matrix}\\right]$"
      ],
      "text/plain": [
       "[1/2, I/2, -1/2, -I/2]"
      ]
     },
     "metadata": {},
     "output_type": "display_data"
    },
    {
     "name": "stdout",
     "output_type": "stream",
     "text": [
      "}\n",
      "{\n"
     ]
    },
    {
     "data": {
      "text/latex": [
       "$\\displaystyle \\left[\\begin{matrix}\\frac{1}{2} & - \\frac{i}{2} & \\frac{1}{2} & - \\frac{i}{2}\\end{matrix}\\right]$"
      ],
      "text/plain": [
       "[1/2, -I/2, 1/2, -I/2]"
      ]
     },
     "metadata": {},
     "output_type": "display_data"
    },
    {
     "data": {
      "text/latex": [
       "$\\displaystyle \\left[\\begin{matrix}\\frac{1}{2} & \\frac{1}{2} & - \\frac{1}{2} & - \\frac{1}{2}\\end{matrix}\\right]$"
      ],
      "text/plain": [
       "[1/2, 1/2, -1/2, -1/2]"
      ]
     },
     "metadata": {},
     "output_type": "display_data"
    },
    {
     "data": {
      "text/latex": [
       "$\\displaystyle \\left[\\begin{matrix}\\frac{1}{2} & \\frac{i}{2} & \\frac{1}{2} & \\frac{i}{2}\\end{matrix}\\right]$"
      ],
      "text/plain": [
       "[1/2, I/2, 1/2, I/2]"
      ]
     },
     "metadata": {},
     "output_type": "display_data"
    },
    {
     "data": {
      "text/latex": [
       "$\\displaystyle \\left[\\begin{matrix}\\frac{1}{2} & - \\frac{1}{2} & - \\frac{1}{2} & \\frac{1}{2}\\end{matrix}\\right]$"
      ],
      "text/plain": [
       "[1/2, -1/2, -1/2, 1/2]"
      ]
     },
     "metadata": {},
     "output_type": "display_data"
    },
    {
     "name": "stdout",
     "output_type": "stream",
     "text": [
      "}\n",
      "{\n"
     ]
    },
    {
     "data": {
      "text/latex": [
       "$\\displaystyle \\left[\\begin{matrix}\\frac{1}{2} & \\frac{1}{2} & \\frac{1}{2} & \\frac{1}{2}\\end{matrix}\\right]$"
      ],
      "text/plain": [
       "[1/2, 1/2, 1/2, 1/2]"
      ]
     },
     "metadata": {},
     "output_type": "display_data"
    },
    {
     "data": {
      "text/latex": [
       "$\\displaystyle \\left[\\begin{matrix}\\frac{1}{2} & \\frac{i}{2} & - \\frac{1}{2} & - \\frac{i}{2}\\end{matrix}\\right]$"
      ],
      "text/plain": [
       "[1/2, I/2, -1/2, -I/2]"
      ]
     },
     "metadata": {},
     "output_type": "display_data"
    },
    {
     "data": {
      "text/latex": [
       "$\\displaystyle \\left[\\begin{matrix}\\frac{1}{2} & - \\frac{1}{2} & \\frac{1}{2} & - \\frac{1}{2}\\end{matrix}\\right]$"
      ],
      "text/plain": [
       "[1/2, -1/2, 1/2, -1/2]"
      ]
     },
     "metadata": {},
     "output_type": "display_data"
    },
    {
     "data": {
      "text/latex": [
       "$\\displaystyle \\left[\\begin{matrix}\\frac{1}{2} & - \\frac{i}{2} & - \\frac{1}{2} & \\frac{i}{2}\\end{matrix}\\right]$"
      ],
      "text/plain": [
       "[1/2, -I/2, -1/2, I/2]"
      ]
     },
     "metadata": {},
     "output_type": "display_data"
    },
    {
     "name": "stdout",
     "output_type": "stream",
     "text": [
      "}\n"
     ]
    }
   ],
   "source": [
    "# Print all.\n",
    "for b in bases:\n",
    "  print(\"{\")\n",
    "  for v in b:\n",
    "    display(v)\n",
    "  print(\"}\")"
   ]
  },
  {
   "cell_type": "code",
   "execution_count": 9,
   "id": "d2ae46ed",
   "metadata": {},
   "outputs": [],
   "source": [
    "# Fourier basis.\n",
    "fourier = [\n",
    "  sp.Array([\n",
    "    1 / sp.sqrt(d) * omega**(l * k) for l in range(d)\n",
    "  ]) for k in range(d)\n",
    "]"
   ]
  },
  {
   "cell_type": "code",
   "execution_count": 10,
   "id": "8b78aea9",
   "metadata": {},
   "outputs": [
    {
     "data": {
      "text/latex": [
       "$\\displaystyle \\left[\\begin{matrix}\\frac{1}{2} & \\frac{1}{2} & \\frac{1}{2} & \\frac{1}{2}\\end{matrix}\\right]$"
      ],
      "text/plain": [
       "[1/2, 1/2, 1/2, 1/2]"
      ]
     },
     "metadata": {},
     "output_type": "display_data"
    },
    {
     "data": {
      "text/latex": [
       "$\\displaystyle \\left[\\begin{matrix}\\frac{1}{2} & \\frac{i}{2} & - \\frac{1}{2} & - \\frac{i}{2}\\end{matrix}\\right]$"
      ],
      "text/plain": [
       "[1/2, I/2, -1/2, -I/2]"
      ]
     },
     "metadata": {},
     "output_type": "display_data"
    },
    {
     "data": {
      "text/latex": [
       "$\\displaystyle \\left[\\begin{matrix}\\frac{1}{2} & - \\frac{1}{2} & \\frac{1}{2} & - \\frac{1}{2}\\end{matrix}\\right]$"
      ],
      "text/plain": [
       "[1/2, -1/2, 1/2, -1/2]"
      ]
     },
     "metadata": {},
     "output_type": "display_data"
    },
    {
     "data": {
      "text/latex": [
       "$\\displaystyle \\left[\\begin{matrix}\\frac{1}{2} & - \\frac{i}{2} & - \\frac{1}{2} & \\frac{i}{2}\\end{matrix}\\right]$"
      ],
      "text/plain": [
       "[1/2, -I/2, -1/2, I/2]"
      ]
     },
     "metadata": {},
     "output_type": "display_data"
    }
   ],
   "source": [
    "# Print all.\n",
    "for f in fourier:\n",
    "  display(f)"
   ]
  },
  {
   "cell_type": "markdown",
   "id": "4cea3a4f",
   "metadata": {},
   "source": [
    "## Orthonormal"
   ]
  },
  {
   "cell_type": "markdown",
   "id": "875b5c76",
   "metadata": {},
   "source": [
    "$ \\langle a |b \\rangle = \\delta_{ab} $"
   ]
  },
  {
   "cell_type": "code",
   "execution_count": 11,
   "id": "53a36204",
   "metadata": {},
   "outputs": [],
   "source": [
    "def inner(x, y, chop=True):\n",
    "  \"\"\"The inner product sum(x^*.y) of two vectors.\"\"\"\n",
    "\n",
    "  # Conjugates of x.\n",
    "  conjugates = map(sp.conjugate, x)\n",
    "  # Pair the values.\n",
    "  points = zip(conjugates, y)\n",
    "  # Mutliply the pairs.\n",
    "  products = map(lambda i: i[0] * i[1], points)\n",
    "  # The inner product, sympy style.\n",
    "  inner = sum(products)\n",
    "  # To floats - with approximations to zero.\n",
    "  toflt = sp.N(inner, chop=chop)\n",
    "  # Return.\n",
    "  return toflt"
   ]
  },
  {
   "cell_type": "code",
   "execution_count": 13,
   "id": "813b54aa",
   "metadata": {},
   "outputs": [
    {
     "data": {
      "text/latex": [
       "$\\displaystyle 1.0$"
      ],
      "text/plain": [
       "1.00000000000000"
      ]
     },
     "execution_count": 13,
     "metadata": {},
     "output_type": "execute_result"
    }
   ],
   "source": [
    "# Test.\n",
    "inner(fourier[1], fourier[1])"
   ]
  },
  {
   "cell_type": "code",
   "execution_count": 14,
   "id": "784963e3",
   "metadata": {},
   "outputs": [
    {
     "name": "stdout",
     "output_type": "stream",
     "text": [
      "0 0 1.00000000000000\n",
      "0 1 0\n",
      "0 2 0\n",
      "0 3 0\n",
      "1 0 0\n",
      "1 1 1.00000000000000\n",
      "1 2 0\n",
      "1 3 0\n",
      "2 0 0\n",
      "2 1 0\n",
      "2 2 1.00000000000000\n",
      "2 3 0\n",
      "3 0 0\n",
      "3 1 0\n",
      "3 2 0\n",
      "3 3 1.00000000000000\n"
     ]
    }
   ],
   "source": [
    "# Check the computational basis for orthogonality.\n",
    "for i, x in enumerate(computational):\n",
    "  for j, y in enumerate(computational):\n",
    "    print(i, j, inner(x, y))"
   ]
  },
  {
   "cell_type": "code",
   "execution_count": 15,
   "id": "7f235a37",
   "metadata": {},
   "outputs": [
    {
     "name": "stdout",
     "output_type": "stream",
     "text": [
      "0 0 1.00000000000000\n",
      "0 1 0\n",
      "0 2 0\n",
      "0 3 0\n",
      "1 0 0\n",
      "1 1 1.00000000000000\n",
      "1 2 0\n",
      "1 3 0\n",
      "2 0 0\n",
      "2 1 0\n",
      "2 2 1.00000000000000\n",
      "2 3 0\n",
      "3 0 0\n",
      "3 1 0\n",
      "3 2 0\n",
      "3 3 1.00000000000000\n"
     ]
    }
   ],
   "source": [
    "# Check the fourier basis for orthogonality.\n",
    "for i, x in enumerate(fourier):\n",
    "  for j, y in enumerate(fourier):\n",
    "    print(i, j, inner(x, y))"
   ]
  },
  {
   "cell_type": "code",
   "execution_count": 16,
   "id": "11600a5d",
   "metadata": {},
   "outputs": [
    {
     "name": "stdout",
     "output_type": "stream",
     "text": [
      "Basis r=1:\n",
      "0 0 1.00000000000000\n",
      "0 1 0\n",
      "0 2 0\n",
      "0 3 0\n",
      "1 0 0\n",
      "1 1 1.00000000000000\n",
      "1 2 0\n",
      "1 3 0\n",
      "2 0 0\n",
      "2 1 0\n",
      "2 2 1.00000000000000\n",
      "2 3 0\n",
      "3 0 0\n",
      "3 1 0\n",
      "3 2 0\n",
      "3 3 1.00000000000000\n",
      "Basis r=2:\n",
      "0 0 1.00000000000000\n",
      "0 1 0\n",
      "0 2 0\n",
      "0 3 0\n",
      "1 0 0\n",
      "1 1 1.00000000000000\n",
      "1 2 0\n",
      "1 3 0\n",
      "2 0 0\n",
      "2 1 0\n",
      "2 2 1.00000000000000\n",
      "2 3 0\n",
      "3 0 0\n",
      "3 1 0\n",
      "3 2 0\n",
      "3 3 1.00000000000000\n",
      "Basis r=3:\n",
      "0 0 1.00000000000000\n",
      "0 1 0\n",
      "0 2 0\n",
      "0 3 0\n",
      "1 0 0\n",
      "1 1 1.00000000000000\n",
      "1 2 0\n",
      "1 3 0\n",
      "2 0 0\n",
      "2 1 0\n",
      "2 2 1.00000000000000\n",
      "2 3 0\n",
      "3 0 0\n",
      "3 1 0\n",
      "3 2 0\n",
      "3 3 1.00000000000000\n",
      "Basis r=4:\n",
      "0 0 1.00000000000000\n",
      "0 1 0\n",
      "0 2 0\n",
      "0 3 0\n",
      "1 0 0\n",
      "1 1 1.00000000000000\n",
      "1 2 0\n",
      "1 3 0\n",
      "2 0 0\n",
      "2 1 0\n",
      "2 2 1.00000000000000\n",
      "2 3 0\n",
      "3 0 0\n",
      "3 1 0\n",
      "3 2 0\n",
      "3 3 1.00000000000000\n"
     ]
    }
   ],
   "source": [
    "# Check the other bases for orthogonality.\n",
    "for k, b in enumerate(bases):\n",
    "  print(f\"Basis r={k+1}:\")\n",
    "  for i, x in enumerate(bases[k]):\n",
    "    for j, y in enumerate(bases[k]):\n",
    "      print(i, j, inner(x, y))"
   ]
  },
  {
   "cell_type": "markdown",
   "id": "51466186",
   "metadata": {},
   "source": [
    "## Mutually Unbiased"
   ]
  },
  {
   "cell_type": "markdown",
   "id": "b73867dd",
   "metadata": {},
   "source": [
    "$ \\forall x \\in B_0 \\, \\forall y \\in B_1: \\, \\left| \\langle x | y \\rangle \\right| = \\frac{1}{d} $\n"
   ]
  },
  {
   "cell_type": "code",
   "execution_count": 17,
   "id": "725c2e5b",
   "metadata": {},
   "outputs": [],
   "source": [
    "def mub(b0, b1, chop=True):\n",
    "  \"\"\"Verify the bases b0 and b1 are mutually unbiased.\"\"\"\n",
    "  for i, x in enumerate(b0):\n",
    "    for j, y in enumerate(b1):\n",
    "      # Conjugates of x.\n",
    "      conjugates = map(sp.conjugate, x)\n",
    "      # Pair the values.\n",
    "      points = zip(conjugates, y)\n",
    "      # Mutliply the pairs.\n",
    "      products = map(lambda i: i[0] * i[1], points)\n",
    "      # The inner product, sympy style.\n",
    "      inner = sum(products)\n",
    "      # Magnitude squared.\n",
    "      magsq = inner.conjugate() * inner\n",
    "      # To floats - with approximations to zero.\n",
    "      toflt = sp.N(magsq, chop=chop)\n",
    "      # Show.\n",
    "      print(f\"({i}, {j}): {toflt}\")"
   ]
  },
  {
   "cell_type": "code",
   "execution_count": 18,
   "id": "235e7ae5",
   "metadata": {},
   "outputs": [
    {
     "name": "stdout",
     "output_type": "stream",
     "text": [
      "(0, 0): 0.250000000000000\n",
      "(0, 1): 0.250000000000000\n",
      "(0, 2): 0.250000000000000\n",
      "(0, 3): 0.250000000000000\n",
      "(1, 0): 0.250000000000000\n",
      "(1, 1): 0.250000000000000\n",
      "(1, 2): 0.250000000000000\n",
      "(1, 3): 0.250000000000000\n",
      "(2, 0): 0.250000000000000\n",
      "(2, 1): 0.250000000000000\n",
      "(2, 2): 0.250000000000000\n",
      "(2, 3): 0.250000000000000\n",
      "(3, 0): 0.250000000000000\n",
      "(3, 1): 0.250000000000000\n",
      "(3, 2): 0.250000000000000\n",
      "(3, 3): 0.250000000000000\n"
     ]
    }
   ],
   "source": [
    "mub(computational, fourier)"
   ]
  },
  {
   "cell_type": "code",
   "execution_count": 19,
   "id": "0e8447d1",
   "metadata": {},
   "outputs": [
    {
     "name": "stdout",
     "output_type": "stream",
     "text": [
      "Bases 1 and 2\n",
      "(0, 0): 0.500000000000000\n",
      "(0, 1): 0\n",
      "(0, 2): 0.500000000000000\n",
      "(0, 3): 0\n",
      "(1, 0): 0\n",
      "(1, 1): 0.500000000000000\n",
      "(1, 2): 0\n",
      "(1, 3): 0.500000000000000\n",
      "(2, 0): 0.500000000000000\n",
      "(2, 1): 0\n",
      "(2, 2): 0.500000000000000\n",
      "(2, 3): 0\n",
      "(3, 0): 0\n",
      "(3, 1): 0.500000000000000\n",
      "(3, 2): 0\n",
      "(3, 3): 0.500000000000000\n",
      "Bases 1 and 3\n",
      "(0, 0): 0\n",
      "(0, 1): 0\n",
      "(0, 2): 1.00000000000000\n",
      "(0, 3): 0\n",
      "(1, 0): 0\n",
      "(1, 1): 0\n",
      "(1, 2): 0\n",
      "(1, 3): 1.00000000000000\n",
      "(2, 0): 1.00000000000000\n",
      "(2, 1): 0\n",
      "(2, 2): 0\n",
      "(2, 3): 0\n",
      "(3, 0): 0\n",
      "(3, 1): 1.00000000000000\n",
      "(3, 2): 0\n",
      "(3, 3): 0\n",
      "Bases 1 and 4\n",
      "(0, 0): 0.500000000000000\n",
      "(0, 1): 0\n",
      "(0, 2): 0.500000000000000\n",
      "(0, 3): 0\n",
      "(1, 0): 0\n",
      "(1, 1): 0.500000000000000\n",
      "(1, 2): 0\n",
      "(1, 3): 0.500000000000000\n",
      "(2, 0): 0.500000000000000\n",
      "(2, 1): 0\n",
      "(2, 2): 0.500000000000000\n",
      "(2, 3): 0\n",
      "(3, 0): 0\n",
      "(3, 1): 0.500000000000000\n",
      "(3, 2): 0\n",
      "(3, 3): 0.500000000000000\n",
      "Bases 2 and 3\n",
      "(0, 0): 0.500000000000000\n",
      "(0, 1): 0\n",
      "(0, 2): 0.500000000000000\n",
      "(0, 3): 0\n",
      "(1, 0): 0\n",
      "(1, 1): 0.500000000000000\n",
      "(1, 2): 0\n",
      "(1, 3): 0.500000000000000\n",
      "(2, 0): 0.500000000000000\n",
      "(2, 1): 0\n",
      "(2, 2): 0.500000000000000\n",
      "(2, 3): 0\n",
      "(3, 0): 0\n",
      "(3, 1): 0.500000000000000\n",
      "(3, 2): 0\n",
      "(3, 3): 0.500000000000000\n",
      "Bases 2 and 4\n",
      "(0, 0): 0\n",
      "(0, 1): 0\n",
      "(0, 2): 1.00000000000000\n",
      "(0, 3): 0\n",
      "(1, 0): 0\n",
      "(1, 1): 0\n",
      "(1, 2): 0\n",
      "(1, 3): 1.00000000000000\n",
      "(2, 0): 1.00000000000000\n",
      "(2, 1): 0\n",
      "(2, 2): 0\n",
      "(2, 3): 0\n",
      "(3, 0): 0\n",
      "(3, 1): 1.00000000000000\n",
      "(3, 2): 0\n",
      "(3, 3): 0\n",
      "Bases 3 and 4\n",
      "(0, 0): 0.500000000000000\n",
      "(0, 1): 0\n",
      "(0, 2): 0.500000000000000\n",
      "(0, 3): 0\n",
      "(1, 0): 0\n",
      "(1, 1): 0.500000000000000\n",
      "(1, 2): 0\n",
      "(1, 3): 0.500000000000000\n",
      "(2, 0): 0.500000000000000\n",
      "(2, 1): 0\n",
      "(2, 2): 0.500000000000000\n",
      "(2, 3): 0\n",
      "(3, 0): 0\n",
      "(3, 1): 0.500000000000000\n",
      "(3, 2): 0\n",
      "(3, 3): 0.500000000000000\n"
     ]
    }
   ],
   "source": [
    "for (i, j) in itertools.combinations(range(d), 2):\n",
    "  print(f\"Bases {i+1} and {j+1}\")\n",
    "  mub(bases[i], bases[j])\n"
   ]
  },
  {
   "cell_type": "code",
   "execution_count": null,
   "id": "52457834",
   "metadata": {},
   "outputs": [],
   "source": []
  }
 ],
 "metadata": {
  "kernelspec": {
   "display_name": "Python 3",
   "language": "python",
   "name": "python3"
  },
  "language_info": {
   "codemirror_mode": {
    "name": "ipython",
    "version": 3
   },
   "file_extension": ".py",
   "mimetype": "text/x-python",
   "name": "python",
   "nbconvert_exporter": "python",
   "pygments_lexer": "ipython3",
   "version": "3.11.13"
  }
 },
 "nbformat": 4,
 "nbformat_minor": 5
}
