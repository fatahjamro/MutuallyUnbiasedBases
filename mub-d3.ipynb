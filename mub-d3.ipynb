{
 "cells": [
  {
   "cell_type": "code",
   "execution_count": 23,
   "id": "b547aec7",
   "metadata": {},
   "outputs": [],
   "source": [
    "# Numerical arrays.\n",
    "import numpy as np\n",
    "\n",
    "# Symbollic arrays.\n",
    "import sympy as sp\n",
    "\n",
    "# Ket, etc.\n",
    "import sympy.physics.quantum as qu\n",
    "\n",
    "# Comibnatorics.\n",
    "import itertools"
   ]
  },
  {
   "cell_type": "code",
   "execution_count": 24,
   "id": "dc7588eb",
   "metadata": {},
   "outputs": [],
   "source": [
    "d = 3"
   ]
  },
  {
   "cell_type": "code",
   "execution_count": 25,
   "id": "a7f620ea",
   "metadata": {},
   "outputs": [],
   "source": [
    "# Computational basis.\n",
    "computational = [sp.Array(np.eye(d, dtype=int)[:, i]) for i in range(d)]"
   ]
  },
  {
   "cell_type": "markdown",
   "id": "c301994f",
   "metadata": {},
   "source": [
    "#### $B_0$ Basis"
   ]
  },
  {
   "cell_type": "code",
   "execution_count": 26,
   "id": "6eb3525a",
   "metadata": {},
   "outputs": [
    {
     "data": {
      "text/plain": [
       "[[1, 0, 0], [0, 1, 0], [0, 0, 1]]"
      ]
     },
     "execution_count": 26,
     "metadata": {},
     "output_type": "execute_result"
    }
   ],
   "source": [
    "computational"
   ]
  },
  {
   "cell_type": "code",
   "execution_count": 32,
   "id": "e6edf216",
   "metadata": {},
   "outputs": [
    {
     "data": {
      "text/latex": [
       "$\\displaystyle e^{\\frac{2 i \\pi}{3}}$"
      ],
      "text/plain": [
       "exp(2*I*pi/3)"
      ]
     },
     "execution_count": 32,
     "metadata": {},
     "output_type": "execute_result"
    }
   ],
   "source": [
    "omega = sp.E**(2*sp.pi*sp.I/d)   # primitive 3rd root of unity\n",
    "omega"
   ]
  },
  {
   "cell_type": "code",
   "execution_count": 35,
   "id": "38808f91",
   "metadata": {},
   "outputs": [],
   "source": [
    "# All bases.\n",
    "bases = [\n",
    "  # Basis.\n",
    "  [\n",
    "    # Vector\n",
    "    sp.Array([\n",
    "      # Component.\n",
    "      1 / sp.sqrt(d) * omega**(r * l * l + k * l) for l in range(d)\n",
    "    ]) for k in range(d)\n",
    "  ] for r in range(1, d + 1)\n",
    "]\n"
   ]
  },
  {
   "cell_type": "code",
   "execution_count": 36,
   "id": "0f4a07b9",
   "metadata": {},
   "outputs": [
    {
     "name": "stdout",
     "output_type": "stream",
     "text": [
      "{\n"
     ]
    },
    {
     "data": {
      "text/latex": [
       "$\\displaystyle \\left[\\begin{matrix}\\frac{\\sqrt{3}}{3} & \\frac{\\sqrt{3} e^{\\frac{2 i \\pi}{3}}}{3} & \\frac{\\sqrt{3} e^{\\frac{2 i \\pi}{3}}}{3}\\end{matrix}\\right]$"
      ],
      "text/plain": [
       "[sqrt(3)/3, sqrt(3)*exp(2*I*pi/3)/3, sqrt(3)*exp(2*I*pi/3)/3]"
      ]
     },
     "metadata": {},
     "output_type": "display_data"
    },
    {
     "data": {
      "text/latex": [
       "$\\displaystyle \\left[\\begin{matrix}\\frac{\\sqrt{3}}{3} & \\frac{\\sqrt{3} e^{- \\frac{2 i \\pi}{3}}}{3} & \\frac{\\sqrt{3}}{3}\\end{matrix}\\right]$"
      ],
      "text/plain": [
       "[sqrt(3)/3, sqrt(3)*exp(-2*I*pi/3)/3, sqrt(3)/3]"
      ]
     },
     "metadata": {},
     "output_type": "display_data"
    },
    {
     "data": {
      "text/latex": [
       "$\\displaystyle \\left[\\begin{matrix}\\frac{\\sqrt{3}}{3} & \\frac{\\sqrt{3}}{3} & \\frac{\\sqrt{3} e^{- \\frac{2 i \\pi}{3}}}{3}\\end{matrix}\\right]$"
      ],
      "text/plain": [
       "[sqrt(3)/3, sqrt(3)/3, sqrt(3)*exp(-2*I*pi/3)/3]"
      ]
     },
     "metadata": {},
     "output_type": "display_data"
    },
    {
     "name": "stdout",
     "output_type": "stream",
     "text": [
      "}\n",
      "{\n"
     ]
    },
    {
     "data": {
      "text/latex": [
       "$\\displaystyle \\left[\\begin{matrix}\\frac{\\sqrt{3}}{3} & \\frac{\\sqrt{3} e^{- \\frac{2 i \\pi}{3}}}{3} & \\frac{\\sqrt{3} e^{- \\frac{2 i \\pi}{3}}}{3}\\end{matrix}\\right]$"
      ],
      "text/plain": [
       "[sqrt(3)/3, sqrt(3)*exp(-2*I*pi/3)/3, sqrt(3)*exp(-2*I*pi/3)/3]"
      ]
     },
     "metadata": {},
     "output_type": "display_data"
    },
    {
     "data": {
      "text/latex": [
       "$\\displaystyle \\left[\\begin{matrix}\\frac{\\sqrt{3}}{3} & \\frac{\\sqrt{3}}{3} & \\frac{\\sqrt{3} e^{\\frac{2 i \\pi}{3}}}{3}\\end{matrix}\\right]$"
      ],
      "text/plain": [
       "[sqrt(3)/3, sqrt(3)/3, sqrt(3)*exp(2*I*pi/3)/3]"
      ]
     },
     "metadata": {},
     "output_type": "display_data"
    },
    {
     "data": {
      "text/latex": [
       "$\\displaystyle \\left[\\begin{matrix}\\frac{\\sqrt{3}}{3} & \\frac{\\sqrt{3} e^{\\frac{2 i \\pi}{3}}}{3} & \\frac{\\sqrt{3}}{3}\\end{matrix}\\right]$"
      ],
      "text/plain": [
       "[sqrt(3)/3, sqrt(3)*exp(2*I*pi/3)/3, sqrt(3)/3]"
      ]
     },
     "metadata": {},
     "output_type": "display_data"
    },
    {
     "name": "stdout",
     "output_type": "stream",
     "text": [
      "}\n",
      "{\n"
     ]
    },
    {
     "data": {
      "text/latex": [
       "$\\displaystyle \\left[\\begin{matrix}\\frac{\\sqrt{3}}{3} & \\frac{\\sqrt{3}}{3} & \\frac{\\sqrt{3}}{3}\\end{matrix}\\right]$"
      ],
      "text/plain": [
       "[sqrt(3)/3, sqrt(3)/3, sqrt(3)/3]"
      ]
     },
     "metadata": {},
     "output_type": "display_data"
    },
    {
     "data": {
      "text/latex": [
       "$\\displaystyle \\left[\\begin{matrix}\\frac{\\sqrt{3}}{3} & \\frac{\\sqrt{3} e^{\\frac{2 i \\pi}{3}}}{3} & \\frac{\\sqrt{3} e^{- \\frac{2 i \\pi}{3}}}{3}\\end{matrix}\\right]$"
      ],
      "text/plain": [
       "[sqrt(3)/3, sqrt(3)*exp(2*I*pi/3)/3, sqrt(3)*exp(-2*I*pi/3)/3]"
      ]
     },
     "metadata": {},
     "output_type": "display_data"
    },
    {
     "data": {
      "text/latex": [
       "$\\displaystyle \\left[\\begin{matrix}\\frac{\\sqrt{3}}{3} & \\frac{\\sqrt{3} e^{- \\frac{2 i \\pi}{3}}}{3} & \\frac{\\sqrt{3} e^{\\frac{2 i \\pi}{3}}}{3}\\end{matrix}\\right]$"
      ],
      "text/plain": [
       "[sqrt(3)/3, sqrt(3)*exp(-2*I*pi/3)/3, sqrt(3)*exp(2*I*pi/3)/3]"
      ]
     },
     "metadata": {},
     "output_type": "display_data"
    },
    {
     "name": "stdout",
     "output_type": "stream",
     "text": [
      "}\n"
     ]
    }
   ],
   "source": [
    "# Print all.\n",
    "for b in bases:\n",
    "  print(\"{\")\n",
    "  for v in b:\n",
    "    display(v)\n",
    "  print(\"}\")"
   ]
  },
  {
   "cell_type": "code",
   "execution_count": 37,
   "id": "a2b4d039",
   "metadata": {},
   "outputs": [],
   "source": [
    "# Fourier basis.\n",
    "fourier = [\n",
    "  sp.Array([\n",
    "    1 / sp.sqrt(d) * omega**(l * k) for l in range(d)\n",
    "  ]) for k in range(d)\n",
    "]"
   ]
  },
  {
   "cell_type": "code",
   "execution_count": 38,
   "id": "08adc25f",
   "metadata": {},
   "outputs": [
    {
     "data": {
      "text/latex": [
       "$\\displaystyle \\left[\\begin{matrix}\\frac{\\sqrt{3}}{3} & \\frac{\\sqrt{3}}{3} & \\frac{\\sqrt{3}}{3}\\end{matrix}\\right]$"
      ],
      "text/plain": [
       "[sqrt(3)/3, sqrt(3)/3, sqrt(3)/3]"
      ]
     },
     "metadata": {},
     "output_type": "display_data"
    },
    {
     "data": {
      "text/latex": [
       "$\\displaystyle \\left[\\begin{matrix}\\frac{\\sqrt{3}}{3} & \\frac{\\sqrt{3} e^{\\frac{2 i \\pi}{3}}}{3} & \\frac{\\sqrt{3} e^{- \\frac{2 i \\pi}{3}}}{3}\\end{matrix}\\right]$"
      ],
      "text/plain": [
       "[sqrt(3)/3, sqrt(3)*exp(2*I*pi/3)/3, sqrt(3)*exp(-2*I*pi/3)/3]"
      ]
     },
     "metadata": {},
     "output_type": "display_data"
    },
    {
     "data": {
      "text/latex": [
       "$\\displaystyle \\left[\\begin{matrix}\\frac{\\sqrt{3}}{3} & \\frac{\\sqrt{3} e^{- \\frac{2 i \\pi}{3}}}{3} & \\frac{\\sqrt{3} e^{\\frac{2 i \\pi}{3}}}{3}\\end{matrix}\\right]$"
      ],
      "text/plain": [
       "[sqrt(3)/3, sqrt(3)*exp(-2*I*pi/3)/3, sqrt(3)*exp(2*I*pi/3)/3]"
      ]
     },
     "metadata": {},
     "output_type": "display_data"
    }
   ],
   "source": [
    "# Print all.\n",
    "for f in fourier:\n",
    "  display(f)"
   ]
  },
  {
   "cell_type": "markdown",
   "id": "e34b0d7e",
   "metadata": {},
   "source": [
    "### Orthonormal check\n",
    "$ \\langle a |b \\rangle = \\delta_{ab} $"
   ]
  },
  {
   "cell_type": "code",
   "execution_count": 39,
   "id": "5c7965fe",
   "metadata": {},
   "outputs": [],
   "source": [
    "def inner(x, y, chop=True):\n",
    "  \"\"\"The inner product sum(x^*.y) of two vectors.\"\"\"\n",
    "\n",
    "  # Conjugates of x.\n",
    "  conjugates = map(sp.conjugate, x)\n",
    "  # Pair the values.\n",
    "  points = zip(conjugates, y)\n",
    "  # Mutliply the pairs.\n",
    "  products = map(lambda i: i[0] * i[1], points)\n",
    "  # The inner product, sympy style.\n",
    "  inner = sum(products)\n",
    "  # To floats - with approximations to zero.\n",
    "  toflt = sp.N(inner, chop=chop)\n",
    "  # Return.\n",
    "  return toflt"
   ]
  },
  {
   "cell_type": "code",
   "execution_count": 40,
   "id": "756a2056",
   "metadata": {},
   "outputs": [
    {
     "data": {
      "text/latex": [
       "$\\displaystyle 1.0$"
      ],
      "text/plain": [
       "1.00000000000000"
      ]
     },
     "execution_count": 40,
     "metadata": {},
     "output_type": "execute_result"
    }
   ],
   "source": [
    "# Test.\n",
    "inner(fourier[1], fourier[1])"
   ]
  },
  {
   "cell_type": "code",
   "execution_count": 41,
   "id": "8765b86c",
   "metadata": {},
   "outputs": [
    {
     "name": "stdout",
     "output_type": "stream",
     "text": [
      "0 0 1.00000000000000\n",
      "0 1 0\n",
      "0 2 0\n",
      "1 0 0\n",
      "1 1 1.00000000000000\n",
      "1 2 0\n",
      "2 0 0\n",
      "2 1 0\n",
      "2 2 1.00000000000000\n"
     ]
    }
   ],
   "source": [
    "# Check the computational basis for orthogonality.\n",
    "for i, x in enumerate(computational):\n",
    "  for j, y in enumerate(computational):\n",
    "    print(i, j, inner(x, y))"
   ]
  },
  {
   "cell_type": "code",
   "execution_count": 42,
   "id": "fa3b43c2",
   "metadata": {},
   "outputs": [
    {
     "name": "stdout",
     "output_type": "stream",
     "text": [
      "0 0 1.00000000000000\n",
      "0 1 0\n",
      "0 2 0\n",
      "1 0 0\n",
      "1 1 1.00000000000000\n",
      "1 2 0\n",
      "2 0 0\n",
      "2 1 0\n",
      "2 2 1.00000000000000\n"
     ]
    }
   ],
   "source": [
    "# Check the fourier basis for orthogonality.\n",
    "for i, x in enumerate(fourier):\n",
    "  for j, y in enumerate(fourier):\n",
    "    print(i, j, inner(x, y))"
   ]
  },
  {
   "cell_type": "code",
   "execution_count": 43,
   "id": "a284efaa",
   "metadata": {},
   "outputs": [
    {
     "name": "stdout",
     "output_type": "stream",
     "text": [
      "Basis r=1:\n",
      "0 0 1.00000000000000\n",
      "0 1 0\n",
      "0 2 0\n",
      "1 0 0\n",
      "1 1 1.00000000000000\n",
      "1 2 0\n",
      "2 0 0\n",
      "2 1 0\n",
      "2 2 1.00000000000000\n",
      "Basis r=2:\n",
      "0 0 1.00000000000000\n",
      "0 1 0\n",
      "0 2 0\n",
      "1 0 0\n",
      "1 1 1.00000000000000\n",
      "1 2 0\n",
      "2 0 0\n",
      "2 1 0\n",
      "2 2 1.00000000000000\n",
      "Basis r=3:\n",
      "0 0 1.00000000000000\n",
      "0 1 0\n",
      "0 2 0\n",
      "1 0 0\n",
      "1 1 1.00000000000000\n",
      "1 2 0\n",
      "2 0 0\n",
      "2 1 0\n",
      "2 2 1.00000000000000\n"
     ]
    }
   ],
   "source": [
    "# Check the other bases for orthogonality.\n",
    "for k, b in enumerate(bases):\n",
    "  print(f\"Basis r={k+1}:\")\n",
    "  for i, x in enumerate(bases[k]):\n",
    "    for j, y in enumerate(bases[k]):\n",
    "      print(i, j, inner(x, y))"
   ]
  },
  {
   "cell_type": "markdown",
   "id": "856ef2f0",
   "metadata": {},
   "source": [
    "### Mutually Unbiased check"
   ]
  },
  {
   "cell_type": "markdown",
   "id": "80bda74f",
   "metadata": {},
   "source": [
    "$ \\forall x \\in B_0 \\, \\forall y \\in B_1: \\, \\left| \\langle x | y \\rangle \\right| = \\frac{1}{d} $"
   ]
  },
  {
   "cell_type": "code",
   "execution_count": 44,
   "id": "03225e0c",
   "metadata": {},
   "outputs": [],
   "source": [
    "def mub(b0, b1, chop=True):\n",
    "  \"\"\"Verify the bases b0 and b1 are mutually unbiased.\"\"\"\n",
    "  for i, x in enumerate(b0):\n",
    "    for j, y in enumerate(b1):\n",
    "      # Conjugates of x.\n",
    "      conjugates = map(sp.conjugate, x)\n",
    "      # Pair the values.\n",
    "      points = zip(conjugates, y)\n",
    "      # Mutliply the pairs.\n",
    "      products = map(lambda i: i[0] * i[1], points)\n",
    "      # The inner product, sympy style.\n",
    "      inner = sum(products)\n",
    "      # Magnitude squared.\n",
    "      magsq = inner.conjugate() * inner\n",
    "      # To floats - with approximations to zero.\n",
    "      toflt = sp.N(magsq, chop=chop)\n",
    "      # Show.\n",
    "      print(f\"({i}, {j}): {toflt}\")"
   ]
  },
  {
   "cell_type": "code",
   "execution_count": 45,
   "id": "73ea9515",
   "metadata": {},
   "outputs": [
    {
     "name": "stdout",
     "output_type": "stream",
     "text": [
      "(0, 0): 0.333333333333333\n",
      "(0, 1): 0.333333333333333\n",
      "(0, 2): 0.333333333333333\n",
      "(1, 0): 0.333333333333333\n",
      "(1, 1): 0.333333333333333\n",
      "(1, 2): 0.333333333333333\n",
      "(2, 0): 0.333333333333333\n",
      "(2, 1): 0.333333333333333\n",
      "(2, 2): 0.333333333333333\n"
     ]
    }
   ],
   "source": [
    "mub(computational, fourier)"
   ]
  },
  {
   "cell_type": "code",
   "execution_count": 46,
   "id": "c76bd51b",
   "metadata": {},
   "outputs": [
    {
     "name": "stdout",
     "output_type": "stream",
     "text": [
      "Bases 1 and 2\n",
      "(0, 0): 0.333333333333333\n",
      "(0, 1): 0.333333333333333\n",
      "(0, 2): 0.333333333333333\n",
      "(1, 0): 0.333333333333333\n",
      "(1, 1): 0.333333333333333\n",
      "(1, 2): 0.333333333333333\n",
      "(2, 0): 0.333333333333333\n",
      "(2, 1): 0.333333333333333\n",
      "(2, 2): 0.333333333333333\n",
      "Bases 1 and 3\n",
      "(0, 0): 0.333333333333333\n",
      "(0, 1): 0.333333333333333\n",
      "(0, 2): 0.333333333333333\n",
      "(1, 0): 0.333333333333333\n",
      "(1, 1): 0.333333333333333\n",
      "(1, 2): 0.333333333333333\n",
      "(2, 0): 0.333333333333333\n",
      "(2, 1): 0.333333333333333\n",
      "(2, 2): 0.333333333333333\n",
      "Bases 2 and 3\n",
      "(0, 0): 0.333333333333333\n",
      "(0, 1): 0.333333333333333\n",
      "(0, 2): 0.333333333333333\n",
      "(1, 0): 0.333333333333333\n",
      "(1, 1): 0.333333333333333\n",
      "(1, 2): 0.333333333333333\n",
      "(2, 0): 0.333333333333333\n",
      "(2, 1): 0.333333333333333\n",
      "(2, 2): 0.333333333333333\n"
     ]
    }
   ],
   "source": [
    "for (i, j) in itertools.combinations(range(d), 2):\n",
    "  print(f\"Bases {i+1} and {j+1}\")\n",
    "  mub(bases[i], bases[j])"
   ]
  },
  {
   "cell_type": "code",
   "execution_count": null,
   "id": "4e6e6916",
   "metadata": {},
   "outputs": [],
   "source": []
  }
 ],
 "metadata": {
  "kernelspec": {
   "display_name": "Python 3",
   "language": "python",
   "name": "python3"
  },
  "language_info": {
   "codemirror_mode": {
    "name": "ipython",
    "version": 3
   },
   "file_extension": ".py",
   "mimetype": "text/x-python",
   "name": "python",
   "nbconvert_exporter": "python",
   "pygments_lexer": "ipython3",
   "version": "3.11.13"
  }
 },
 "nbformat": 4,
 "nbformat_minor": 5
}
