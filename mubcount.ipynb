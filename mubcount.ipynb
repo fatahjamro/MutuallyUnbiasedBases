{
 "cells": [
  {
   "cell_type": "markdown",
   "id": "5f556eff",
   "metadata": {},
   "source": [
    "# Mutually Unbiased Bases"
   ]
  },
  {
   "cell_type": "markdown",
   "id": "98c7a85b",
   "metadata": {},
   "source": [
    "Wooters and Fields  \n",
    "https://sci-hub.se/10.1016/0003-4916(89)90322-9"
   ]
  },
  {
   "cell_type": "code",
   "execution_count": 1,
   "id": "bd2b9cde",
   "metadata": {},
   "outputs": [],
   "source": [
    "# Numerical arrays.\n",
    "import numpy as np\n",
    "\n",
    "# Symbollic arrays.\n",
    "import sympy as sp\n",
    "\n",
    "# Ket, etc.\n",
    "import sympy.physics.quantum as qu\n",
    "\n",
    "# Comibnatorics.\n",
    "import itertools"
   ]
  },
  {
   "cell_type": "markdown",
   "id": "8a2994e1",
   "metadata": {},
   "source": [
    "## Odd Primes"
   ]
  },
  {
   "cell_type": "code",
   "execution_count": 2,
   "id": "4692a89c",
   "metadata": {},
   "outputs": [],
   "source": [
    "# Dimensions.\n",
    "d = 5"
   ]
  },
  {
   "cell_type": "code",
   "execution_count": 3,
   "id": "8a08f99e",
   "metadata": {},
   "outputs": [],
   "source": [
    "# Computational basis.\n",
    "computational = [sp.Array(np.eye(d, dtype=int)[:, i]) for i in range(d)]"
   ]
  },
  {
   "cell_type": "code",
   "execution_count": 4,
   "id": "6e6896ee",
   "metadata": {},
   "outputs": [
    {
     "data": {
      "text/plain": [
       "[[1, 0, 0, 0, 0],\n",
       " [0, 1, 0, 0, 0],\n",
       " [0, 0, 1, 0, 0],\n",
       " [0, 0, 0, 1, 0],\n",
       " [0, 0, 0, 0, 1]]"
      ]
     },
     "execution_count": 4,
     "metadata": {},
     "output_type": "execute_result"
    }
   ],
   "source": [
    "computational"
   ]
  },
  {
   "cell_type": "markdown",
   "id": "7ef56d5e",
   "metadata": {},
   "source": [
    "## Primitive Root of Unity\n",
    "\n",
    "$ \\omega = e^{2 \\pi i / d} $"
   ]
  },
  {
   "cell_type": "code",
   "execution_count": 5,
   "id": "73bff87d",
   "metadata": {},
   "outputs": [
    {
     "data": {
      "text/latex": [
       "$\\displaystyle e^{\\frac{2 i \\pi}{5}}$"
      ],
      "text/plain": [
       "exp(2*I*pi/5)"
      ]
     },
     "execution_count": 5,
     "metadata": {},
     "output_type": "execute_result"
    }
   ],
   "source": [
    "# Primitive d^th root of unity.\n",
    "omega = sp.E**((2 * sp.pi * sp.I / d))\n",
    "\n",
    "# Show.\n",
    "omega"
   ]
  },
  {
   "cell_type": "code",
   "execution_count": 6,
   "id": "5ef859f6",
   "metadata": {},
   "outputs": [],
   "source": [
    "# All bases.\n",
    "bases = [\n",
    "  # Basis.\n",
    "  [\n",
    "    # Vector\n",
    "    sp.Array([\n",
    "      # Component.\n",
    "      1 / sp.sqrt(d) * omega**(r * l * l + k * l) for l in range(d)\n",
    "    ]) for k in range(d)\n",
    "  ] for r in range(1, d + 1)\n",
    "]\n"
   ]
  },
  {
   "cell_type": "code",
   "execution_count": 7,
   "id": "b5186bcc",
   "metadata": {},
   "outputs": [
    {
     "name": "stdout",
     "output_type": "stream",
     "text": [
      "{\n"
     ]
    },
    {
     "data": {
      "text/latex": [
       "$\\displaystyle \\left[\\begin{matrix}\\frac{\\sqrt{5}}{5} & \\frac{\\sqrt{5} e^{\\frac{2 i \\pi}{5}}}{5} & \\frac{\\sqrt{5} e^{- \\frac{2 i \\pi}{5}}}{5} & \\frac{\\sqrt{5} e^{- \\frac{2 i \\pi}{5}}}{5} & \\frac{\\sqrt{5} e^{\\frac{2 i \\pi}{5}}}{5}\\end{matrix}\\right]$"
      ],
      "text/plain": [
       "[sqrt(5)/5, sqrt(5)*exp(2*I*pi/5)/5, sqrt(5)*exp(-2*I*pi/5)/5, sqrt(5)*exp(-2*I*pi/5)/5, sqrt(5)*exp(2*I*pi/5)/5]"
      ]
     },
     "metadata": {},
     "output_type": "display_data"
    },
    {
     "data": {
      "text/latex": [
       "$\\displaystyle \\left[\\begin{matrix}\\frac{\\sqrt{5}}{5} & \\frac{\\sqrt{5} e^{\\frac{4 i \\pi}{5}}}{5} & \\frac{\\sqrt{5} e^{\\frac{2 i \\pi}{5}}}{5} & \\frac{\\sqrt{5} e^{\\frac{4 i \\pi}{5}}}{5} & \\frac{\\sqrt{5}}{5}\\end{matrix}\\right]$"
      ],
      "text/plain": [
       "[sqrt(5)/5, sqrt(5)*exp(4*I*pi/5)/5, sqrt(5)*exp(2*I*pi/5)/5, sqrt(5)*exp(4*I*pi/5)/5, sqrt(5)/5]"
      ]
     },
     "metadata": {},
     "output_type": "display_data"
    },
    {
     "data": {
      "text/latex": [
       "$\\displaystyle \\left[\\begin{matrix}\\frac{\\sqrt{5}}{5} & \\frac{\\sqrt{5} e^{- \\frac{4 i \\pi}{5}}}{5} & \\frac{\\sqrt{5} e^{- \\frac{4 i \\pi}{5}}}{5} & \\frac{\\sqrt{5}}{5} & \\frac{\\sqrt{5} e^{- \\frac{2 i \\pi}{5}}}{5}\\end{matrix}\\right]$"
      ],
      "text/plain": [
       "[sqrt(5)/5, sqrt(5)*exp(-4*I*pi/5)/5, sqrt(5)*exp(-4*I*pi/5)/5, sqrt(5)/5, sqrt(5)*exp(-2*I*pi/5)/5]"
      ]
     },
     "metadata": {},
     "output_type": "display_data"
    },
    {
     "data": {
      "text/latex": [
       "$\\displaystyle \\left[\\begin{matrix}\\frac{\\sqrt{5}}{5} & \\frac{\\sqrt{5} e^{- \\frac{2 i \\pi}{5}}}{5} & \\frac{\\sqrt{5}}{5} & \\frac{\\sqrt{5} e^{- \\frac{4 i \\pi}{5}}}{5} & \\frac{\\sqrt{5} e^{- \\frac{4 i \\pi}{5}}}{5}\\end{matrix}\\right]$"
      ],
      "text/plain": [
       "[sqrt(5)/5, sqrt(5)*exp(-2*I*pi/5)/5, sqrt(5)/5, sqrt(5)*exp(-4*I*pi/5)/5, sqrt(5)*exp(-4*I*pi/5)/5]"
      ]
     },
     "metadata": {},
     "output_type": "display_data"
    },
    {
     "data": {
      "text/latex": [
       "$\\displaystyle \\left[\\begin{matrix}\\frac{\\sqrt{5}}{5} & \\frac{\\sqrt{5}}{5} & \\frac{\\sqrt{5} e^{\\frac{4 i \\pi}{5}}}{5} & \\frac{\\sqrt{5} e^{\\frac{2 i \\pi}{5}}}{5} & \\frac{\\sqrt{5} e^{\\frac{4 i \\pi}{5}}}{5}\\end{matrix}\\right]$"
      ],
      "text/plain": [
       "[sqrt(5)/5, sqrt(5)/5, sqrt(5)*exp(4*I*pi/5)/5, sqrt(5)*exp(2*I*pi/5)/5, sqrt(5)*exp(4*I*pi/5)/5]"
      ]
     },
     "metadata": {},
     "output_type": "display_data"
    },
    {
     "name": "stdout",
     "output_type": "stream",
     "text": [
      "}\n",
      "{\n"
     ]
    },
    {
     "data": {
      "text/latex": [
       "$\\displaystyle \\left[\\begin{matrix}\\frac{\\sqrt{5}}{5} & \\frac{\\sqrt{5} e^{\\frac{4 i \\pi}{5}}}{5} & \\frac{\\sqrt{5} e^{- \\frac{4 i \\pi}{5}}}{5} & \\frac{\\sqrt{5} e^{- \\frac{4 i \\pi}{5}}}{5} & \\frac{\\sqrt{5} e^{\\frac{4 i \\pi}{5}}}{5}\\end{matrix}\\right]$"
      ],
      "text/plain": [
       "[sqrt(5)/5, sqrt(5)*exp(4*I*pi/5)/5, sqrt(5)*exp(-4*I*pi/5)/5, sqrt(5)*exp(-4*I*pi/5)/5, sqrt(5)*exp(4*I*pi/5)/5]"
      ]
     },
     "metadata": {},
     "output_type": "display_data"
    },
    {
     "data": {
      "text/latex": [
       "$\\displaystyle \\left[\\begin{matrix}\\frac{\\sqrt{5}}{5} & \\frac{\\sqrt{5} e^{- \\frac{4 i \\pi}{5}}}{5} & \\frac{\\sqrt{5}}{5} & \\frac{\\sqrt{5} e^{\\frac{2 i \\pi}{5}}}{5} & \\frac{\\sqrt{5} e^{\\frac{2 i \\pi}{5}}}{5}\\end{matrix}\\right]$"
      ],
      "text/plain": [
       "[sqrt(5)/5, sqrt(5)*exp(-4*I*pi/5)/5, sqrt(5)/5, sqrt(5)*exp(2*I*pi/5)/5, sqrt(5)*exp(2*I*pi/5)/5]"
      ]
     },
     "metadata": {},
     "output_type": "display_data"
    },
    {
     "data": {
      "text/latex": [
       "$\\displaystyle \\left[\\begin{matrix}\\frac{\\sqrt{5}}{5} & \\frac{\\sqrt{5} e^{- \\frac{2 i \\pi}{5}}}{5} & \\frac{\\sqrt{5} e^{\\frac{4 i \\pi}{5}}}{5} & \\frac{\\sqrt{5} e^{- \\frac{2 i \\pi}{5}}}{5} & \\frac{\\sqrt{5}}{5}\\end{matrix}\\right]$"
      ],
      "text/plain": [
       "[sqrt(5)/5, sqrt(5)*exp(-2*I*pi/5)/5, sqrt(5)*exp(4*I*pi/5)/5, sqrt(5)*exp(-2*I*pi/5)/5, sqrt(5)/5]"
      ]
     },
     "metadata": {},
     "output_type": "display_data"
    },
    {
     "data": {
      "text/latex": [
       "$\\displaystyle \\left[\\begin{matrix}\\frac{\\sqrt{5}}{5} & \\frac{\\sqrt{5}}{5} & \\frac{\\sqrt{5} e^{- \\frac{2 i \\pi}{5}}}{5} & \\frac{\\sqrt{5} e^{\\frac{4 i \\pi}{5}}}{5} & \\frac{\\sqrt{5} e^{- \\frac{2 i \\pi}{5}}}{5}\\end{matrix}\\right]$"
      ],
      "text/plain": [
       "[sqrt(5)/5, sqrt(5)/5, sqrt(5)*exp(-2*I*pi/5)/5, sqrt(5)*exp(4*I*pi/5)/5, sqrt(5)*exp(-2*I*pi/5)/5]"
      ]
     },
     "metadata": {},
     "output_type": "display_data"
    },
    {
     "data": {
      "text/latex": [
       "$\\displaystyle \\left[\\begin{matrix}\\frac{\\sqrt{5}}{5} & \\frac{\\sqrt{5} e^{\\frac{2 i \\pi}{5}}}{5} & \\frac{\\sqrt{5} e^{\\frac{2 i \\pi}{5}}}{5} & \\frac{\\sqrt{5}}{5} & \\frac{\\sqrt{5} e^{- \\frac{4 i \\pi}{5}}}{5}\\end{matrix}\\right]$"
      ],
      "text/plain": [
       "[sqrt(5)/5, sqrt(5)*exp(2*I*pi/5)/5, sqrt(5)*exp(2*I*pi/5)/5, sqrt(5)/5, sqrt(5)*exp(-4*I*pi/5)/5]"
      ]
     },
     "metadata": {},
     "output_type": "display_data"
    },
    {
     "name": "stdout",
     "output_type": "stream",
     "text": [
      "}\n",
      "{\n"
     ]
    },
    {
     "data": {
      "text/latex": [
       "$\\displaystyle \\left[\\begin{matrix}\\frac{\\sqrt{5}}{5} & \\frac{\\sqrt{5} e^{- \\frac{4 i \\pi}{5}}}{5} & \\frac{\\sqrt{5} e^{\\frac{4 i \\pi}{5}}}{5} & \\frac{\\sqrt{5} e^{\\frac{4 i \\pi}{5}}}{5} & \\frac{\\sqrt{5} e^{- \\frac{4 i \\pi}{5}}}{5}\\end{matrix}\\right]$"
      ],
      "text/plain": [
       "[sqrt(5)/5, sqrt(5)*exp(-4*I*pi/5)/5, sqrt(5)*exp(4*I*pi/5)/5, sqrt(5)*exp(4*I*pi/5)/5, sqrt(5)*exp(-4*I*pi/5)/5]"
      ]
     },
     "metadata": {},
     "output_type": "display_data"
    },
    {
     "data": {
      "text/latex": [
       "$\\displaystyle \\left[\\begin{matrix}\\frac{\\sqrt{5}}{5} & \\frac{\\sqrt{5} e^{- \\frac{2 i \\pi}{5}}}{5} & \\frac{\\sqrt{5} e^{- \\frac{2 i \\pi}{5}}}{5} & \\frac{\\sqrt{5}}{5} & \\frac{\\sqrt{5} e^{\\frac{4 i \\pi}{5}}}{5}\\end{matrix}\\right]$"
      ],
      "text/plain": [
       "[sqrt(5)/5, sqrt(5)*exp(-2*I*pi/5)/5, sqrt(5)*exp(-2*I*pi/5)/5, sqrt(5)/5, sqrt(5)*exp(4*I*pi/5)/5]"
      ]
     },
     "metadata": {},
     "output_type": "display_data"
    },
    {
     "data": {
      "text/latex": [
       "$\\displaystyle \\left[\\begin{matrix}\\frac{\\sqrt{5}}{5} & \\frac{\\sqrt{5}}{5} & \\frac{\\sqrt{5} e^{\\frac{2 i \\pi}{5}}}{5} & \\frac{\\sqrt{5} e^{- \\frac{4 i \\pi}{5}}}{5} & \\frac{\\sqrt{5} e^{\\frac{2 i \\pi}{5}}}{5}\\end{matrix}\\right]$"
      ],
      "text/plain": [
       "[sqrt(5)/5, sqrt(5)/5, sqrt(5)*exp(2*I*pi/5)/5, sqrt(5)*exp(-4*I*pi/5)/5, sqrt(5)*exp(2*I*pi/5)/5]"
      ]
     },
     "metadata": {},
     "output_type": "display_data"
    },
    {
     "data": {
      "text/latex": [
       "$\\displaystyle \\left[\\begin{matrix}\\frac{\\sqrt{5}}{5} & \\frac{\\sqrt{5} e^{\\frac{2 i \\pi}{5}}}{5} & \\frac{\\sqrt{5} e^{- \\frac{4 i \\pi}{5}}}{5} & \\frac{\\sqrt{5} e^{\\frac{2 i \\pi}{5}}}{5} & \\frac{\\sqrt{5}}{5}\\end{matrix}\\right]$"
      ],
      "text/plain": [
       "[sqrt(5)/5, sqrt(5)*exp(2*I*pi/5)/5, sqrt(5)*exp(-4*I*pi/5)/5, sqrt(5)*exp(2*I*pi/5)/5, sqrt(5)/5]"
      ]
     },
     "metadata": {},
     "output_type": "display_data"
    },
    {
     "data": {
      "text/latex": [
       "$\\displaystyle \\left[\\begin{matrix}\\frac{\\sqrt{5}}{5} & \\frac{\\sqrt{5} e^{\\frac{4 i \\pi}{5}}}{5} & \\frac{\\sqrt{5}}{5} & \\frac{\\sqrt{5} e^{- \\frac{2 i \\pi}{5}}}{5} & \\frac{\\sqrt{5} e^{- \\frac{2 i \\pi}{5}}}{5}\\end{matrix}\\right]$"
      ],
      "text/plain": [
       "[sqrt(5)/5, sqrt(5)*exp(4*I*pi/5)/5, sqrt(5)/5, sqrt(5)*exp(-2*I*pi/5)/5, sqrt(5)*exp(-2*I*pi/5)/5]"
      ]
     },
     "metadata": {},
     "output_type": "display_data"
    },
    {
     "name": "stdout",
     "output_type": "stream",
     "text": [
      "}\n",
      "{\n"
     ]
    },
    {
     "data": {
      "text/latex": [
       "$\\displaystyle \\left[\\begin{matrix}\\frac{\\sqrt{5}}{5} & \\frac{\\sqrt{5} e^{- \\frac{2 i \\pi}{5}}}{5} & \\frac{\\sqrt{5} e^{\\frac{2 i \\pi}{5}}}{5} & \\frac{\\sqrt{5} e^{\\frac{2 i \\pi}{5}}}{5} & \\frac{\\sqrt{5} e^{- \\frac{2 i \\pi}{5}}}{5}\\end{matrix}\\right]$"
      ],
      "text/plain": [
       "[sqrt(5)/5, sqrt(5)*exp(-2*I*pi/5)/5, sqrt(5)*exp(2*I*pi/5)/5, sqrt(5)*exp(2*I*pi/5)/5, sqrt(5)*exp(-2*I*pi/5)/5]"
      ]
     },
     "metadata": {},
     "output_type": "display_data"
    },
    {
     "data": {
      "text/latex": [
       "$\\displaystyle \\left[\\begin{matrix}\\frac{\\sqrt{5}}{5} & \\frac{\\sqrt{5}}{5} & \\frac{\\sqrt{5} e^{- \\frac{4 i \\pi}{5}}}{5} & \\frac{\\sqrt{5} e^{- \\frac{2 i \\pi}{5}}}{5} & \\frac{\\sqrt{5} e^{- \\frac{4 i \\pi}{5}}}{5}\\end{matrix}\\right]$"
      ],
      "text/plain": [
       "[sqrt(5)/5, sqrt(5)/5, sqrt(5)*exp(-4*I*pi/5)/5, sqrt(5)*exp(-2*I*pi/5)/5, sqrt(5)*exp(-4*I*pi/5)/5]"
      ]
     },
     "metadata": {},
     "output_type": "display_data"
    },
    {
     "data": {
      "text/latex": [
       "$\\displaystyle \\left[\\begin{matrix}\\frac{\\sqrt{5}}{5} & \\frac{\\sqrt{5} e^{\\frac{2 i \\pi}{5}}}{5} & \\frac{\\sqrt{5}}{5} & \\frac{\\sqrt{5} e^{\\frac{4 i \\pi}{5}}}{5} & \\frac{\\sqrt{5} e^{\\frac{4 i \\pi}{5}}}{5}\\end{matrix}\\right]$"
      ],
      "text/plain": [
       "[sqrt(5)/5, sqrt(5)*exp(2*I*pi/5)/5, sqrt(5)/5, sqrt(5)*exp(4*I*pi/5)/5, sqrt(5)*exp(4*I*pi/5)/5]"
      ]
     },
     "metadata": {},
     "output_type": "display_data"
    },
    {
     "data": {
      "text/latex": [
       "$\\displaystyle \\left[\\begin{matrix}\\frac{\\sqrt{5}}{5} & \\frac{\\sqrt{5} e^{\\frac{4 i \\pi}{5}}}{5} & \\frac{\\sqrt{5} e^{\\frac{4 i \\pi}{5}}}{5} & \\frac{\\sqrt{5}}{5} & \\frac{\\sqrt{5} e^{\\frac{2 i \\pi}{5}}}{5}\\end{matrix}\\right]$"
      ],
      "text/plain": [
       "[sqrt(5)/5, sqrt(5)*exp(4*I*pi/5)/5, sqrt(5)*exp(4*I*pi/5)/5, sqrt(5)/5, sqrt(5)*exp(2*I*pi/5)/5]"
      ]
     },
     "metadata": {},
     "output_type": "display_data"
    },
    {
     "data": {
      "text/latex": [
       "$\\displaystyle \\left[\\begin{matrix}\\frac{\\sqrt{5}}{5} & \\frac{\\sqrt{5} e^{- \\frac{4 i \\pi}{5}}}{5} & \\frac{\\sqrt{5} e^{- \\frac{2 i \\pi}{5}}}{5} & \\frac{\\sqrt{5} e^{- \\frac{4 i \\pi}{5}}}{5} & \\frac{\\sqrt{5}}{5}\\end{matrix}\\right]$"
      ],
      "text/plain": [
       "[sqrt(5)/5, sqrt(5)*exp(-4*I*pi/5)/5, sqrt(5)*exp(-2*I*pi/5)/5, sqrt(5)*exp(-4*I*pi/5)/5, sqrt(5)/5]"
      ]
     },
     "metadata": {},
     "output_type": "display_data"
    },
    {
     "name": "stdout",
     "output_type": "stream",
     "text": [
      "}\n",
      "{\n"
     ]
    },
    {
     "data": {
      "text/latex": [
       "$\\displaystyle \\left[\\begin{matrix}\\frac{\\sqrt{5}}{5} & \\frac{\\sqrt{5}}{5} & \\frac{\\sqrt{5}}{5} & \\frac{\\sqrt{5}}{5} & \\frac{\\sqrt{5}}{5}\\end{matrix}\\right]$"
      ],
      "text/plain": [
       "[sqrt(5)/5, sqrt(5)/5, sqrt(5)/5, sqrt(5)/5, sqrt(5)/5]"
      ]
     },
     "metadata": {},
     "output_type": "display_data"
    },
    {
     "data": {
      "text/latex": [
       "$\\displaystyle \\left[\\begin{matrix}\\frac{\\sqrt{5}}{5} & \\frac{\\sqrt{5} e^{\\frac{2 i \\pi}{5}}}{5} & \\frac{\\sqrt{5} e^{\\frac{4 i \\pi}{5}}}{5} & \\frac{\\sqrt{5} e^{- \\frac{4 i \\pi}{5}}}{5} & \\frac{\\sqrt{5} e^{- \\frac{2 i \\pi}{5}}}{5}\\end{matrix}\\right]$"
      ],
      "text/plain": [
       "[sqrt(5)/5, sqrt(5)*exp(2*I*pi/5)/5, sqrt(5)*exp(4*I*pi/5)/5, sqrt(5)*exp(-4*I*pi/5)/5, sqrt(5)*exp(-2*I*pi/5)/5]"
      ]
     },
     "metadata": {},
     "output_type": "display_data"
    },
    {
     "data": {
      "text/latex": [
       "$\\displaystyle \\left[\\begin{matrix}\\frac{\\sqrt{5}}{5} & \\frac{\\sqrt{5} e^{\\frac{4 i \\pi}{5}}}{5} & \\frac{\\sqrt{5} e^{- \\frac{2 i \\pi}{5}}}{5} & \\frac{\\sqrt{5} e^{\\frac{2 i \\pi}{5}}}{5} & \\frac{\\sqrt{5} e^{- \\frac{4 i \\pi}{5}}}{5}\\end{matrix}\\right]$"
      ],
      "text/plain": [
       "[sqrt(5)/5, sqrt(5)*exp(4*I*pi/5)/5, sqrt(5)*exp(-2*I*pi/5)/5, sqrt(5)*exp(2*I*pi/5)/5, sqrt(5)*exp(-4*I*pi/5)/5]"
      ]
     },
     "metadata": {},
     "output_type": "display_data"
    },
    {
     "data": {
      "text/latex": [
       "$\\displaystyle \\left[\\begin{matrix}\\frac{\\sqrt{5}}{5} & \\frac{\\sqrt{5} e^{- \\frac{4 i \\pi}{5}}}{5} & \\frac{\\sqrt{5} e^{\\frac{2 i \\pi}{5}}}{5} & \\frac{\\sqrt{5} e^{- \\frac{2 i \\pi}{5}}}{5} & \\frac{\\sqrt{5} e^{\\frac{4 i \\pi}{5}}}{5}\\end{matrix}\\right]$"
      ],
      "text/plain": [
       "[sqrt(5)/5, sqrt(5)*exp(-4*I*pi/5)/5, sqrt(5)*exp(2*I*pi/5)/5, sqrt(5)*exp(-2*I*pi/5)/5, sqrt(5)*exp(4*I*pi/5)/5]"
      ]
     },
     "metadata": {},
     "output_type": "display_data"
    },
    {
     "data": {
      "text/latex": [
       "$\\displaystyle \\left[\\begin{matrix}\\frac{\\sqrt{5}}{5} & \\frac{\\sqrt{5} e^{- \\frac{2 i \\pi}{5}}}{5} & \\frac{\\sqrt{5} e^{- \\frac{4 i \\pi}{5}}}{5} & \\frac{\\sqrt{5} e^{\\frac{4 i \\pi}{5}}}{5} & \\frac{\\sqrt{5} e^{\\frac{2 i \\pi}{5}}}{5}\\end{matrix}\\right]$"
      ],
      "text/plain": [
       "[sqrt(5)/5, sqrt(5)*exp(-2*I*pi/5)/5, sqrt(5)*exp(-4*I*pi/5)/5, sqrt(5)*exp(4*I*pi/5)/5, sqrt(5)*exp(2*I*pi/5)/5]"
      ]
     },
     "metadata": {},
     "output_type": "display_data"
    },
    {
     "name": "stdout",
     "output_type": "stream",
     "text": [
      "}\n"
     ]
    }
   ],
   "source": [
    "# Print all.\n",
    "for b in bases:\n",
    "  print(\"{\")\n",
    "  for v in b:\n",
    "    display(v)\n",
    "  print(\"}\")"
   ]
  },
  {
   "cell_type": "code",
   "execution_count": 8,
   "id": "2cbb99aa",
   "metadata": {},
   "outputs": [],
   "source": [
    "# Fourier basis.\n",
    "fourier = [\n",
    "  sp.Array([\n",
    "    1 / sp.sqrt(d) * omega**(l * k) for l in range(d)\n",
    "  ]) for k in range(d)\n",
    "]"
   ]
  },
  {
   "cell_type": "code",
   "execution_count": 9,
   "id": "28b8851c",
   "metadata": {},
   "outputs": [
    {
     "data": {
      "text/latex": [
       "$\\displaystyle \\left[\\begin{matrix}\\frac{\\sqrt{5}}{5} & \\frac{\\sqrt{5}}{5} & \\frac{\\sqrt{5}}{5} & \\frac{\\sqrt{5}}{5} & \\frac{\\sqrt{5}}{5}\\end{matrix}\\right]$"
      ],
      "text/plain": [
       "[sqrt(5)/5, sqrt(5)/5, sqrt(5)/5, sqrt(5)/5, sqrt(5)/5]"
      ]
     },
     "metadata": {},
     "output_type": "display_data"
    },
    {
     "data": {
      "text/latex": [
       "$\\displaystyle \\left[\\begin{matrix}\\frac{\\sqrt{5}}{5} & \\frac{\\sqrt{5} e^{\\frac{2 i \\pi}{5}}}{5} & \\frac{\\sqrt{5} e^{\\frac{4 i \\pi}{5}}}{5} & \\frac{\\sqrt{5} e^{- \\frac{4 i \\pi}{5}}}{5} & \\frac{\\sqrt{5} e^{- \\frac{2 i \\pi}{5}}}{5}\\end{matrix}\\right]$"
      ],
      "text/plain": [
       "[sqrt(5)/5, sqrt(5)*exp(2*I*pi/5)/5, sqrt(5)*exp(4*I*pi/5)/5, sqrt(5)*exp(-4*I*pi/5)/5, sqrt(5)*exp(-2*I*pi/5)/5]"
      ]
     },
     "metadata": {},
     "output_type": "display_data"
    },
    {
     "data": {
      "text/latex": [
       "$\\displaystyle \\left[\\begin{matrix}\\frac{\\sqrt{5}}{5} & \\frac{\\sqrt{5} e^{\\frac{4 i \\pi}{5}}}{5} & \\frac{\\sqrt{5} e^{- \\frac{2 i \\pi}{5}}}{5} & \\frac{\\sqrt{5} e^{\\frac{2 i \\pi}{5}}}{5} & \\frac{\\sqrt{5} e^{- \\frac{4 i \\pi}{5}}}{5}\\end{matrix}\\right]$"
      ],
      "text/plain": [
       "[sqrt(5)/5, sqrt(5)*exp(4*I*pi/5)/5, sqrt(5)*exp(-2*I*pi/5)/5, sqrt(5)*exp(2*I*pi/5)/5, sqrt(5)*exp(-4*I*pi/5)/5]"
      ]
     },
     "metadata": {},
     "output_type": "display_data"
    },
    {
     "data": {
      "text/latex": [
       "$\\displaystyle \\left[\\begin{matrix}\\frac{\\sqrt{5}}{5} & \\frac{\\sqrt{5} e^{- \\frac{4 i \\pi}{5}}}{5} & \\frac{\\sqrt{5} e^{\\frac{2 i \\pi}{5}}}{5} & \\frac{\\sqrt{5} e^{- \\frac{2 i \\pi}{5}}}{5} & \\frac{\\sqrt{5} e^{\\frac{4 i \\pi}{5}}}{5}\\end{matrix}\\right]$"
      ],
      "text/plain": [
       "[sqrt(5)/5, sqrt(5)*exp(-4*I*pi/5)/5, sqrt(5)*exp(2*I*pi/5)/5, sqrt(5)*exp(-2*I*pi/5)/5, sqrt(5)*exp(4*I*pi/5)/5]"
      ]
     },
     "metadata": {},
     "output_type": "display_data"
    },
    {
     "data": {
      "text/latex": [
       "$\\displaystyle \\left[\\begin{matrix}\\frac{\\sqrt{5}}{5} & \\frac{\\sqrt{5} e^{- \\frac{2 i \\pi}{5}}}{5} & \\frac{\\sqrt{5} e^{- \\frac{4 i \\pi}{5}}}{5} & \\frac{\\sqrt{5} e^{\\frac{4 i \\pi}{5}}}{5} & \\frac{\\sqrt{5} e^{\\frac{2 i \\pi}{5}}}{5}\\end{matrix}\\right]$"
      ],
      "text/plain": [
       "[sqrt(5)/5, sqrt(5)*exp(-2*I*pi/5)/5, sqrt(5)*exp(-4*I*pi/5)/5, sqrt(5)*exp(4*I*pi/5)/5, sqrt(5)*exp(2*I*pi/5)/5]"
      ]
     },
     "metadata": {},
     "output_type": "display_data"
    }
   ],
   "source": [
    "# Print all.\n",
    "for f in fourier:\n",
    "  display(f)"
   ]
  },
  {
   "cell_type": "markdown",
   "id": "9e40db65",
   "metadata": {},
   "source": [
    "## Orthonormal"
   ]
  },
  {
   "cell_type": "markdown",
   "id": "aa0d17d0",
   "metadata": {},
   "source": [
    "$ \\langle a |b \\rangle = \\delta_{ab} $"
   ]
  },
  {
   "cell_type": "code",
   "execution_count": 10,
   "id": "50843c22",
   "metadata": {},
   "outputs": [],
   "source": [
    "def inner(x, y, chop=True):\n",
    "  \"\"\"The inner product sum(x^*.y) of two vectors.\"\"\"\n",
    "\n",
    "  # Conjugates of x.\n",
    "  conjugates = map(sp.conjugate, x)\n",
    "  # Pair the values.\n",
    "  points = zip(conjugates, y)\n",
    "  # Mutliply the pairs.\n",
    "  products = map(lambda i: i[0] * i[1], points)\n",
    "  # The inner product, sympy style.\n",
    "  inner = sum(products)\n",
    "  # To floats - with approximations to zero.\n",
    "  toflt = sp.N(inner, chop=chop)\n",
    "  # Return.\n",
    "  return toflt"
   ]
  },
  {
   "cell_type": "code",
   "execution_count": 11,
   "id": "395a6ce4",
   "metadata": {},
   "outputs": [
    {
     "data": {
      "text/latex": [
       "$\\displaystyle 1.0$"
      ],
      "text/plain": [
       "1.00000000000000"
      ]
     },
     "execution_count": 11,
     "metadata": {},
     "output_type": "execute_result"
    }
   ],
   "source": [
    "# Test.\n",
    "inner(fourier[1], fourier[1])"
   ]
  },
  {
   "cell_type": "code",
   "execution_count": 12,
   "id": "3bd4d7f1",
   "metadata": {},
   "outputs": [
    {
     "name": "stdout",
     "output_type": "stream",
     "text": [
      "0 0 1.00000000000000\n",
      "0 1 0\n",
      "0 2 0\n",
      "0 3 0\n",
      "0 4 0\n",
      "1 0 0\n",
      "1 1 1.00000000000000\n",
      "1 2 0\n",
      "1 3 0\n",
      "1 4 0\n",
      "2 0 0\n",
      "2 1 0\n",
      "2 2 1.00000000000000\n",
      "2 3 0\n",
      "2 4 0\n",
      "3 0 0\n",
      "3 1 0\n",
      "3 2 0\n",
      "3 3 1.00000000000000\n",
      "3 4 0\n",
      "4 0 0\n",
      "4 1 0\n",
      "4 2 0\n",
      "4 3 0\n",
      "4 4 1.00000000000000\n"
     ]
    }
   ],
   "source": [
    "# Check the computational basis for orthogonality.\n",
    "for i, x in enumerate(computational):\n",
    "  for j, y in enumerate(computational):\n",
    "    print(i, j, inner(x, y))"
   ]
  },
  {
   "cell_type": "code",
   "execution_count": 13,
   "id": "f9d850b3",
   "metadata": {},
   "outputs": [
    {
     "name": "stdout",
     "output_type": "stream",
     "text": [
      "0 0 1.00000000000000\n",
      "0 1 0\n",
      "0 2 0\n",
      "0 3 0\n",
      "0 4 0\n",
      "1 0 0\n",
      "1 1 1.00000000000000\n",
      "1 2 0\n",
      "1 3 0\n",
      "1 4 0\n",
      "2 0 0\n",
      "2 1 0\n",
      "2 2 1.00000000000000\n",
      "2 3 0\n",
      "2 4 0\n",
      "3 0 0\n",
      "3 1 0\n",
      "3 2 0\n",
      "3 3 1.00000000000000\n",
      "3 4 0\n",
      "4 0 0\n",
      "4 1 0\n",
      "4 2 0\n",
      "4 3 0\n",
      "4 4 1.00000000000000\n"
     ]
    }
   ],
   "source": [
    "# Check the fourier basis for orthogonality.\n",
    "for i, x in enumerate(fourier):\n",
    "  for j, y in enumerate(fourier):\n",
    "    print(i, j, inner(x, y))"
   ]
  },
  {
   "cell_type": "code",
   "execution_count": 14,
   "id": "f1703e14",
   "metadata": {},
   "outputs": [
    {
     "name": "stdout",
     "output_type": "stream",
     "text": [
      "Basis r=1:\n",
      "0 0 1.00000000000000\n",
      "0 1 0\n",
      "0 2 0\n",
      "0 3 0\n",
      "0 4 0\n",
      "1 0 0\n",
      "1 1 1.00000000000000\n",
      "1 2 0\n",
      "1 3 0\n",
      "1 4 0\n",
      "2 0 0\n",
      "2 1 0\n",
      "2 2 1.00000000000000\n",
      "2 3 0\n",
      "2 4 0\n",
      "3 0 0\n",
      "3 1 0\n",
      "3 2 0\n",
      "3 3 1.00000000000000\n",
      "3 4 0\n",
      "4 0 0\n",
      "4 1 0\n",
      "4 2 0\n",
      "4 3 0\n",
      "4 4 1.00000000000000\n",
      "Basis r=2:\n",
      "0 0 1.00000000000000\n",
      "0 1 0\n",
      "0 2 0\n",
      "0 3 0\n",
      "0 4 0\n",
      "1 0 0\n",
      "1 1 1.00000000000000\n",
      "1 2 0\n",
      "1 3 0\n",
      "1 4 0\n",
      "2 0 0\n",
      "2 1 0\n",
      "2 2 1.00000000000000\n",
      "2 3 0\n",
      "2 4 0\n",
      "3 0 0\n",
      "3 1 0\n",
      "3 2 0\n",
      "3 3 1.00000000000000\n",
      "3 4 0\n",
      "4 0 0\n",
      "4 1 0\n",
      "4 2 0\n",
      "4 3 0\n",
      "4 4 1.00000000000000\n",
      "Basis r=3:\n",
      "0 0 1.00000000000000\n",
      "0 1 0\n",
      "0 2 0\n",
      "0 3 0\n",
      "0 4 0\n",
      "1 0 0\n",
      "1 1 1.00000000000000\n",
      "1 2 0\n",
      "1 3 0\n",
      "1 4 0\n",
      "2 0 0\n",
      "2 1 0\n",
      "2 2 1.00000000000000\n",
      "2 3 0\n",
      "2 4 0\n",
      "3 0 0\n",
      "3 1 0\n",
      "3 2 0\n",
      "3 3 1.00000000000000\n",
      "3 4 0\n",
      "4 0 0\n",
      "4 1 0\n",
      "4 2 0\n",
      "4 3 0\n",
      "4 4 1.00000000000000\n",
      "Basis r=4:\n",
      "0 0 1.00000000000000\n",
      "0 1 0\n",
      "0 2 0\n",
      "0 3 0\n",
      "0 4 0\n",
      "1 0 0\n",
      "1 1 1.00000000000000\n",
      "1 2 0\n",
      "1 3 0\n",
      "1 4 0\n",
      "2 0 0\n",
      "2 1 0\n",
      "2 2 1.00000000000000\n",
      "2 3 0\n",
      "2 4 0\n",
      "3 0 0\n",
      "3 1 0\n",
      "3 2 0\n",
      "3 3 1.00000000000000\n",
      "3 4 0\n",
      "4 0 0\n",
      "4 1 0\n",
      "4 2 0\n",
      "4 3 0\n",
      "4 4 1.00000000000000\n",
      "Basis r=5:\n",
      "0 0 1.00000000000000\n",
      "0 1 0\n",
      "0 2 0\n",
      "0 3 0\n",
      "0 4 0\n",
      "1 0 0\n",
      "1 1 1.00000000000000\n",
      "1 2 0\n",
      "1 3 0\n",
      "1 4 0\n",
      "2 0 0\n",
      "2 1 0\n",
      "2 2 1.00000000000000\n",
      "2 3 0\n",
      "2 4 0\n",
      "3 0 0\n",
      "3 1 0\n",
      "3 2 0\n",
      "3 3 1.00000000000000\n",
      "3 4 0\n",
      "4 0 0\n",
      "4 1 0\n",
      "4 2 0\n",
      "4 3 0\n",
      "4 4 1.00000000000000\n"
     ]
    }
   ],
   "source": [
    "# Check the other bases for orthogonality.\n",
    "for k, b in enumerate(bases):\n",
    "  print(f\"Basis r={k+1}:\")\n",
    "  for i, x in enumerate(bases[k]):\n",
    "    for j, y in enumerate(bases[k]):\n",
    "      print(i, j, inner(x, y))"
   ]
  },
  {
   "cell_type": "markdown",
   "id": "b5af4f17",
   "metadata": {},
   "source": [
    "## Mutually Unbiased"
   ]
  },
  {
   "cell_type": "markdown",
   "id": "d8fdccab",
   "metadata": {},
   "source": [
    "$ \\forall x \\in B_0 \\, \\forall y \\in B_1: \\, \\left| \\langle x | y \\rangle \\right| = \\frac{1}{d} $\n"
   ]
  },
  {
   "cell_type": "code",
   "execution_count": 15,
   "id": "60e8db08",
   "metadata": {},
   "outputs": [],
   "source": [
    "def mub(b0, b1, chop=True):\n",
    "  \"\"\"Verify the bases b0 and b1 are mutually unbiased.\"\"\"\n",
    "  for i, x in enumerate(b0):\n",
    "    for j, y in enumerate(b1):\n",
    "      # Conjugates of x.\n",
    "      conjugates = map(sp.conjugate, x)\n",
    "      # Pair the values.\n",
    "      points = zip(conjugates, y)\n",
    "      # Mutliply the pairs.\n",
    "      products = map(lambda i: i[0] * i[1], points)\n",
    "      # The inner product, sympy style.\n",
    "      inner = sum(products)\n",
    "      # Magnitude squared.\n",
    "      magsq = inner.conjugate() * inner\n",
    "      # To floats - with approximations to zero.\n",
    "      toflt = sp.N(magsq, chop=chop)\n",
    "      # Show.\n",
    "      print(f\"({i}, {j}): {toflt}\")"
   ]
  },
  {
   "cell_type": "code",
   "execution_count": 16,
   "id": "9a56775c",
   "metadata": {},
   "outputs": [
    {
     "name": "stdout",
     "output_type": "stream",
     "text": [
      "(0, 0): 0.200000000000000\n",
      "(0, 1): 0.200000000000000\n",
      "(0, 2): 0.200000000000000\n",
      "(0, 3): 0.200000000000000\n",
      "(0, 4): 0.200000000000000\n",
      "(1, 0): 0.200000000000000\n",
      "(1, 1): 0.200000000000000\n",
      "(1, 2): 0.200000000000000\n",
      "(1, 3): 0.200000000000000\n",
      "(1, 4): 0.200000000000000\n",
      "(2, 0): 0.200000000000000\n",
      "(2, 1): 0.200000000000000\n",
      "(2, 2): 0.200000000000000\n",
      "(2, 3): 0.200000000000000\n",
      "(2, 4): 0.200000000000000\n",
      "(3, 0): 0.200000000000000\n",
      "(3, 1): 0.200000000000000\n",
      "(3, 2): 0.200000000000000\n",
      "(3, 3): 0.200000000000000\n",
      "(3, 4): 0.200000000000000\n",
      "(4, 0): 0.200000000000000\n",
      "(4, 1): 0.200000000000000\n",
      "(4, 2): 0.200000000000000\n",
      "(4, 3): 0.200000000000000\n",
      "(4, 4): 0.200000000000000\n"
     ]
    }
   ],
   "source": [
    "mub(computational, fourier)"
   ]
  },
  {
   "cell_type": "code",
   "execution_count": 17,
   "id": "4a9d08a6",
   "metadata": {},
   "outputs": [
    {
     "name": "stdout",
     "output_type": "stream",
     "text": [
      "Bases 1 and 2\n",
      "(0, 0): 0.200000000000000\n",
      "(0, 1): 0.200000000000000\n",
      "(0, 2): 0.200000000000000\n",
      "(0, 3): 0.200000000000000\n",
      "(0, 4): 0.200000000000000\n",
      "(1, 0): 0.200000000000000\n",
      "(1, 1): 0.200000000000000\n",
      "(1, 2): 0.200000000000000\n",
      "(1, 3): 0.200000000000000\n",
      "(1, 4): 0.200000000000000\n",
      "(2, 0): 0.200000000000000\n",
      "(2, 1): 0.200000000000000\n",
      "(2, 2): 0.200000000000000\n",
      "(2, 3): 0.200000000000000\n",
      "(2, 4): 0.200000000000000\n",
      "(3, 0): 0.200000000000000\n",
      "(3, 1): 0.200000000000000\n",
      "(3, 2): 0.200000000000000\n",
      "(3, 3): 0.200000000000000\n",
      "(3, 4): 0.200000000000000\n",
      "(4, 0): 0.200000000000000\n",
      "(4, 1): 0.200000000000000\n",
      "(4, 2): 0.200000000000000\n",
      "(4, 3): 0.200000000000000\n",
      "(4, 4): 0.200000000000000\n",
      "Bases 1 and 3\n",
      "(0, 0): 0.200000000000000\n",
      "(0, 1): 0.200000000000000\n",
      "(0, 2): 0.200000000000000\n",
      "(0, 3): 0.200000000000000\n",
      "(0, 4): 0.200000000000000\n",
      "(1, 0): 0.200000000000000\n",
      "(1, 1): 0.200000000000000\n",
      "(1, 2): 0.200000000000000\n",
      "(1, 3): 0.200000000000000\n",
      "(1, 4): 0.200000000000000\n",
      "(2, 0): 0.200000000000000\n",
      "(2, 1): 0.200000000000000\n",
      "(2, 2): 0.200000000000000\n",
      "(2, 3): 0.200000000000000\n",
      "(2, 4): 0.200000000000000\n",
      "(3, 0): 0.200000000000000\n",
      "(3, 1): 0.200000000000000\n",
      "(3, 2): 0.200000000000000\n",
      "(3, 3): 0.200000000000000\n",
      "(3, 4): 0.200000000000000\n",
      "(4, 0): 0.200000000000000\n",
      "(4, 1): 0.200000000000000\n",
      "(4, 2): 0.200000000000000\n",
      "(4, 3): 0.200000000000000\n",
      "(4, 4): 0.200000000000000\n",
      "Bases 1 and 4\n",
      "(0, 0): 0.200000000000000\n",
      "(0, 1): 0.200000000000000\n",
      "(0, 2): 0.200000000000000\n",
      "(0, 3): 0.200000000000000\n",
      "(0, 4): 0.200000000000000\n",
      "(1, 0): 0.200000000000000\n",
      "(1, 1): 0.200000000000000\n",
      "(1, 2): 0.200000000000000\n",
      "(1, 3): 0.200000000000000\n",
      "(1, 4): 0.200000000000000\n",
      "(2, 0): 0.200000000000000\n",
      "(2, 1): 0.200000000000000\n",
      "(2, 2): 0.200000000000000\n",
      "(2, 3): 0.200000000000000\n",
      "(2, 4): 0.200000000000000\n",
      "(3, 0): 0.200000000000000\n",
      "(3, 1): 0.200000000000000\n",
      "(3, 2): 0.200000000000000\n",
      "(3, 3): 0.200000000000000\n",
      "(3, 4): 0.200000000000000\n",
      "(4, 0): 0.200000000000000\n",
      "(4, 1): 0.200000000000000\n",
      "(4, 2): 0.200000000000000\n",
      "(4, 3): 0.200000000000000\n",
      "(4, 4): 0.200000000000000\n",
      "Bases 1 and 5\n",
      "(0, 0): 0.200000000000000\n",
      "(0, 1): 0.200000000000000\n",
      "(0, 2): 0.200000000000000\n",
      "(0, 3): 0.200000000000000\n",
      "(0, 4): 0.200000000000000\n",
      "(1, 0): 0.200000000000000\n",
      "(1, 1): 0.200000000000000\n",
      "(1, 2): 0.200000000000000\n",
      "(1, 3): 0.200000000000000\n",
      "(1, 4): 0.200000000000000\n",
      "(2, 0): 0.200000000000000\n",
      "(2, 1): 0.200000000000000\n",
      "(2, 2): 0.200000000000000\n",
      "(2, 3): 0.200000000000000\n",
      "(2, 4): 0.200000000000000\n",
      "(3, 0): 0.200000000000000\n",
      "(3, 1): 0.200000000000000\n",
      "(3, 2): 0.200000000000000\n",
      "(3, 3): 0.200000000000000\n",
      "(3, 4): 0.200000000000000\n",
      "(4, 0): 0.200000000000000\n",
      "(4, 1): 0.200000000000000\n",
      "(4, 2): 0.200000000000000\n",
      "(4, 3): 0.200000000000000\n",
      "(4, 4): 0.200000000000000\n",
      "Bases 2 and 3\n",
      "(0, 0): 0.200000000000000\n",
      "(0, 1): 0.200000000000000\n",
      "(0, 2): 0.200000000000000\n",
      "(0, 3): 0.200000000000000\n",
      "(0, 4): 0.200000000000000\n",
      "(1, 0): 0.200000000000000\n",
      "(1, 1): 0.200000000000000\n",
      "(1, 2): 0.200000000000000\n",
      "(1, 3): 0.200000000000000\n",
      "(1, 4): 0.200000000000000\n",
      "(2, 0): 0.200000000000000\n",
      "(2, 1): 0.200000000000000\n",
      "(2, 2): 0.200000000000000\n",
      "(2, 3): 0.200000000000000\n",
      "(2, 4): 0.200000000000000\n",
      "(3, 0): 0.200000000000000\n",
      "(3, 1): 0.200000000000000\n",
      "(3, 2): 0.200000000000000\n",
      "(3, 3): 0.200000000000000\n",
      "(3, 4): 0.200000000000000\n",
      "(4, 0): 0.200000000000000\n",
      "(4, 1): 0.200000000000000\n",
      "(4, 2): 0.200000000000000\n",
      "(4, 3): 0.200000000000000\n",
      "(4, 4): 0.200000000000000\n",
      "Bases 2 and 4\n",
      "(0, 0): 0.200000000000000\n",
      "(0, 1): 0.200000000000000\n",
      "(0, 2): 0.200000000000000\n",
      "(0, 3): 0.200000000000000\n",
      "(0, 4): 0.200000000000000\n",
      "(1, 0): 0.200000000000000\n",
      "(1, 1): 0.200000000000000\n",
      "(1, 2): 0.200000000000000\n",
      "(1, 3): 0.200000000000000\n",
      "(1, 4): 0.200000000000000\n",
      "(2, 0): 0.200000000000000\n",
      "(2, 1): 0.200000000000000\n",
      "(2, 2): 0.200000000000000\n",
      "(2, 3): 0.200000000000000\n",
      "(2, 4): 0.200000000000000\n",
      "(3, 0): 0.200000000000000\n",
      "(3, 1): 0.200000000000000\n",
      "(3, 2): 0.200000000000000\n",
      "(3, 3): 0.200000000000000\n",
      "(3, 4): 0.200000000000000\n",
      "(4, 0): 0.200000000000000\n",
      "(4, 1): 0.200000000000000\n",
      "(4, 2): 0.200000000000000\n",
      "(4, 3): 0.200000000000000\n",
      "(4, 4): 0.200000000000000\n",
      "Bases 2 and 5\n",
      "(0, 0): 0.200000000000000\n",
      "(0, 1): 0.200000000000000\n",
      "(0, 2): 0.200000000000000\n",
      "(0, 3): 0.200000000000000\n",
      "(0, 4): 0.200000000000000\n",
      "(1, 0): 0.200000000000000\n",
      "(1, 1): 0.200000000000000\n",
      "(1, 2): 0.200000000000000\n",
      "(1, 3): 0.200000000000000\n",
      "(1, 4): 0.200000000000000\n",
      "(2, 0): 0.200000000000000\n",
      "(2, 1): 0.200000000000000\n",
      "(2, 2): 0.200000000000000\n",
      "(2, 3): 0.200000000000000\n",
      "(2, 4): 0.200000000000000\n",
      "(3, 0): 0.200000000000000\n",
      "(3, 1): 0.200000000000000\n",
      "(3, 2): 0.200000000000000\n",
      "(3, 3): 0.200000000000000\n",
      "(3, 4): 0.200000000000000\n",
      "(4, 0): 0.200000000000000\n",
      "(4, 1): 0.200000000000000\n",
      "(4, 2): 0.200000000000000\n",
      "(4, 3): 0.200000000000000\n",
      "(4, 4): 0.200000000000000\n",
      "Bases 3 and 4\n",
      "(0, 0): 0.200000000000000\n",
      "(0, 1): 0.200000000000000\n",
      "(0, 2): 0.200000000000000\n",
      "(0, 3): 0.200000000000000\n",
      "(0, 4): 0.200000000000000\n",
      "(1, 0): 0.200000000000000\n",
      "(1, 1): 0.200000000000000\n",
      "(1, 2): 0.200000000000000\n",
      "(1, 3): 0.200000000000000\n",
      "(1, 4): 0.200000000000000\n",
      "(2, 0): 0.200000000000000\n",
      "(2, 1): 0.200000000000000\n",
      "(2, 2): 0.200000000000000\n",
      "(2, 3): 0.200000000000000\n",
      "(2, 4): 0.200000000000000\n",
      "(3, 0): 0.200000000000000\n",
      "(3, 1): 0.200000000000000\n",
      "(3, 2): 0.200000000000000\n",
      "(3, 3): 0.200000000000000\n",
      "(3, 4): 0.200000000000000\n",
      "(4, 0): 0.200000000000000\n",
      "(4, 1): 0.200000000000000\n",
      "(4, 2): 0.200000000000000\n",
      "(4, 3): 0.200000000000000\n",
      "(4, 4): 0.200000000000000\n",
      "Bases 3 and 5\n",
      "(0, 0): 0.200000000000000\n",
      "(0, 1): 0.200000000000000\n",
      "(0, 2): 0.200000000000000\n",
      "(0, 3): 0.200000000000000\n",
      "(0, 4): 0.200000000000000\n",
      "(1, 0): 0.200000000000000\n",
      "(1, 1): 0.200000000000000\n",
      "(1, 2): 0.200000000000000\n",
      "(1, 3): 0.200000000000000\n",
      "(1, 4): 0.200000000000000\n",
      "(2, 0): 0.200000000000000\n",
      "(2, 1): 0.200000000000000\n",
      "(2, 2): 0.200000000000000\n",
      "(2, 3): 0.200000000000000\n",
      "(2, 4): 0.200000000000000\n",
      "(3, 0): 0.200000000000000\n",
      "(3, 1): 0.200000000000000\n",
      "(3, 2): 0.200000000000000\n",
      "(3, 3): 0.200000000000000\n",
      "(3, 4): 0.200000000000000\n",
      "(4, 0): 0.200000000000000\n",
      "(4, 1): 0.200000000000000\n",
      "(4, 2): 0.200000000000000\n",
      "(4, 3): 0.200000000000000\n",
      "(4, 4): 0.200000000000000\n",
      "Bases 4 and 5\n",
      "(0, 0): 0.200000000000000\n",
      "(0, 1): 0.200000000000000\n",
      "(0, 2): 0.200000000000000\n",
      "(0, 3): 0.200000000000000\n",
      "(0, 4): 0.200000000000000\n",
      "(1, 0): 0.200000000000000\n",
      "(1, 1): 0.200000000000000\n",
      "(1, 2): 0.200000000000000\n",
      "(1, 3): 0.200000000000000\n",
      "(1, 4): 0.200000000000000\n",
      "(2, 0): 0.200000000000000\n",
      "(2, 1): 0.200000000000000\n",
      "(2, 2): 0.200000000000000\n",
      "(2, 3): 0.200000000000000\n",
      "(2, 4): 0.200000000000000\n",
      "(3, 0): 0.200000000000000\n",
      "(3, 1): 0.200000000000000\n",
      "(3, 2): 0.200000000000000\n",
      "(3, 3): 0.200000000000000\n",
      "(3, 4): 0.200000000000000\n",
      "(4, 0): 0.200000000000000\n",
      "(4, 1): 0.200000000000000\n",
      "(4, 2): 0.200000000000000\n",
      "(4, 3): 0.200000000000000\n",
      "(4, 4): 0.200000000000000\n"
     ]
    }
   ],
   "source": [
    "for (i, j) in itertools.combinations(range(d), 2):\n",
    "  print(f\"Bases {i+1} and {j+1}\")\n",
    "  mub(bases[i], bases[j])\n"
   ]
  },
  {
   "cell_type": "markdown",
   "id": "2c25133b",
   "metadata": {},
   "source": [
    "## End\n"
   ]
  }
 ],
 "metadata": {
  "kernelspec": {
   "display_name": "Python 3",
   "language": "python",
   "name": "python3"
  },
  "language_info": {
   "codemirror_mode": {
    "name": "ipython",
    "version": 3
   },
   "file_extension": ".py",
   "mimetype": "text/x-python",
   "name": "python",
   "nbconvert_exporter": "python",
   "pygments_lexer": "ipython3",
   "version": "3.11.13"
  }
 },
 "nbformat": 4,
 "nbformat_minor": 5
}
